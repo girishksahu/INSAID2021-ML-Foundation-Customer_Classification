{
 "cells": [
  {
   "cell_type": "markdown",
   "metadata": {
    "id": "ZyYWZAQ2xu0G"
   },
   "source": [
    "<center><img src=\"https://github.com/girishksahu/INSAID2021/blob/SMART_AI_Learning/INSAID_Full%20Logo.png?raw=true\" width=\"240\" height=\"100\" /></center>"
   ]
  },
  {
   "cell_type": "markdown",
   "metadata": {
    "id": "5mkv4UHgEipa"
   },
   "source": [
    "<h1><center>Machine Learning Foundation Project - Customer Classification for Retail Bank</center><h1>"
   ]
  },
  {
   "cell_type": "markdown",
   "metadata": {
    "id": "ssyIiSn2Eipb"
   },
   "source": [
    "<center><img width=40% src=\"https://github.com/girishksahu/INSAID2021-ML-Foundation-Customer_Classification/blob/SMART_AI_Learning/bank-logo.png?raw=true\"></center>"
   ]
  },
  {
   "cell_type": "markdown",
   "metadata": {
    "id": "Rrs4ecLVxxyB"
   },
   "source": [
    "---\n",
    "# **Table of Contents**\n",
    "---\n",
    "\n",
    "**1.** [**Introduction**](#Section1)<br>\n",
    "**2.** [**Problem Statement**](#Section2)<br>\n",
    "**3.** [**Importing Libraries**](#Section3)<br>\n",
    "  - **3.1** [**Version Check**](#Section31)\n",
    "  - **3.2** [**Importing Libraries**](#Section32)\n",
    "\n",
    "**4.** [**Data Acquisition & Description**](#Section4)<br>\n",
    "  - **4.1** [**Data Description**](#Section41)\n",
    "  - **4.2** [**Data Information**](#Section42)\n",
    "\n",
    "**5.** [**Data Pre-processing**](#Section5)<br>\n",
    "  - **5.1** [**Data Pre-profiling**](#Section51)<br>\n",
    "  - **5.2** [**Data Pre-Processing**](#Section52)<br>\n",
    "  - **5.3** [**Data Post-profiling**](#Section53)<br>\n",
    "\n",
    "**6.** [**Exploratory Data Analysis**](#Section6)<br>\n",
    "**7.** [**Data Post-Processing**](#Section7)<br>\n",
    "  - **7.1** [**Data Encoding**](#Section71)<br> \n",
    "  - **7.2** [**Data Preparation**](#Section72)<br>\n",
    "  - **7.3** [**Data Scaling**](#Section73)<br>\n",
    "\n",
    "**8.** [**Model Development & Evaluation**](#Section8)<br>\n",
    "**9.** [**Summarization**](#Section9)<br>\n",
    "  - **9.1** [**Conclusion**](#Section91)<br>"
   ]
  },
  {
   "cell_type": "markdown",
   "metadata": {
    "id": "TtA6ebp2x1m1"
   },
   "source": [
    "---\n",
    "<a name = Section1></a>\n",
    "# **1. Introduction**\n",
    "---\n",
    "\n",
    "- AE Corp is retail banking institution.\n",
    "\n",
    "    - They are going to float a stock trading facility for their existing customers.\n",
    "\n",
    "    - The idea is to use data to classify whether a customer belongs to a high net worth or low net worth group.\n",
    "\n",
    "    - They will have to incentivize their customers to adopt their offerings.\n",
    "\n",
    "    - One way to incentivize is to offer discounts on the commission for trading transactions.\n",
    "\n",
    "\n",
    "**<h3>Current Scenario:</h3>**\n",
    "\n",
    "- The company rolled out this service to about 10,000+ of its customers and observed their trading behavior for 6 months and after that, they labeled them into two revenue grids 1 and 2. "
   ]
  },
  {
   "cell_type": "markdown",
   "metadata": {
    "id": "6PD50alP7PbO"
   },
   "source": [
    "---\n",
    "<a name = Section2></a>\n",
    "# **2. Problem Statement**\n",
    "---\n",
    "\n",
    "- **The current process suffers from the following problems:**\n",
    "    - One issue is that only about 10% of the customers do enough trades for earnings after discounts to be profitable.\n",
    "\n",
    "    - The company wants to figure out, which are those 10% customers so that it can selectively offer them a discount.\n",
    "\n",
    "    - They will have to incentivize their customers to adopt their offerings.\n",
    "\n",
    "    - The marketing department has hired you as a data science consultant because they want to supplement their campaigns with a more proactive approach.\n",
    "\n",
    "\n",
    "<a name = Section21></a>\n",
    "### **Your Role**\n",
    "\n",
    "- You are given datasets of past customers and their status (Revenue Grid 1 or 2).\n",
    "\n",
    "- Your task is to build a classification model using the datasets.\n",
    "\n",
    "     - Because there was no machine learning model for this problem in the company, you don’t have a quantifiable win condition. \n",
    "     - You need to build the best possible model.\n",
    "\n",
    "<a name = Section21></a>\n",
    "### **Project Deliverables**\n",
    "- Deliverable: **Predict whether a customer belongs to a high net worth or low net worth group.**\n",
    "\n",
    "- Machine Learning Task: **Classification.**\n",
    "\n",
    "- Target Variable: **Status (high net worth (1) / low net worth (2))**\n",
    "- Win Condition: **N/A (best possible model)**\n",
    "\n",
    "<a name = Section21></a>\n",
    "### **Evaluation Metric**\n",
    "\n",
    "- The model evaluation will be based on the F1-Score score."
   ]
  },
  {
   "cell_type": "markdown",
   "metadata": {
    "id": "b9NOLpdcEiph"
   },
   "source": [
    "<center><img src=\"https://github.com/girishksahu/INSAID2021-ML-Foundation-Customer_Classification/blob/SMART_AI_Learning/stocks-trade.jpg?raw=true\"></center>"
   ]
  },
  {
   "cell_type": "markdown",
   "metadata": {
    "id": "uqq_eeCl7T--"
   },
   "source": [
    "---\n",
    "<a name = Section3></a>\n",
    "# **3. Importing Libraries**\n",
    "---"
   ]
  },
  {
   "cell_type": "markdown",
   "metadata": {
    "id": "RM7-_O1X7Vvn"
   },
   "source": [
    "<a name = Section31></a>\n",
    "### **3.1 Version Check**"
   ]
  },
  {
   "cell_type": "code",
   "execution_count": null,
   "metadata": {
    "colab": {
     "base_uri": "https://localhost:8080/"
    },
    "id": "vy7KwPADEipm",
    "outputId": "b459e3f2-2b55-4561-fe58-b7d656d45ec5"
   },
   "outputs": [],
   "source": [
    "from platform import python_version\n",
    "\n",
    "# Printing version of Python to ensure correct version is used for this project\n",
    "print(\"python version\", python_version())\n",
    "#!pip list\n",
    "#!pip show\n"
   ]
  },
  {
   "cell_type": "markdown",
   "metadata": {
    "id": "WTASHFS47cFv"
   },
   "source": [
    "<a name = Section32></a>\n",
    "### **3.2 Importing Libraries**"
   ]
  },
  {
   "cell_type": "code",
   "execution_count": 223,
   "metadata": {
    "colab": {
     "base_uri": "https://localhost:8080/"
    },
    "id": "IvwRw1f77a-U",
    "outputId": "ba47d080-34c2-4b27-fb6e-0118f71b1681"
   },
   "outputs": [
    {
     "name": "stdout",
     "output_type": "stream",
     "text": [
      "pandas version 1.1.3\n",
      "numpy version 1.19.2\n",
      "seaborn version 0.11.0\n",
      "sklearn version 0.24.2\n"
     ]
    }
   ],
   "source": [
    "#------------------------------------------------------------------------------------------------------------------------------\n",
    "import pandas as pd                                                 # Importing for panel data analysis\n",
    "from pandas_profiling import ProfileReport                          # Import Pandas Profiling (To generate Univariate Analysis)\n",
    "pd.set_option('display.max_columns', None)                          # Unfolding hidden features if the cardinality is high\n",
    "pd.set_option('display.max_rows', None)                             # Unfolding hidden data points if the cardinality is high\n",
    "pd.set_option('mode.chained_assignment', None)                      # Removing restriction over chained assignments operations\n",
    "#-------------------------------------------------------------------------------------------------------------------------------\n",
    "import numpy as np                                                  # Importing package numpys (For Numerical Python)\n",
    "from scipy.stats import randint as sp_randint                       # For initializing random integer values\n",
    "#-------------------------------------------------------------------------------------------------------------------------------\n",
    "import matplotlib.pyplot as plt                                     # Importing pyplot interface using matplotlib\n",
    "import seaborn as sns                                               # Importin seaborm library for interactive visualization\n",
    "%matplotlib inline\n",
    "import sklearn.metrics\n",
    "#-------------------------------------------------------------------------------------------------------------------------------\n",
    "from sklearn.preprocessing import StandardScaler                    # To scaled data with mean 0 and variance 1\n",
    "from sklearn.model_selection import RandomizedSearchCV              # To find best hyperparamter setting for the algorithm\n",
    "from sklearn.metrics import classification_report                   # To generate classification report\n",
    "from sklearn.metrics import plot_confusion_matrix                   # To plot confusion matrix\n",
    "#import pydotplus                                                    # To generate pydot file\n",
    "from IPython.display import Image                                   # To generate image using pydot file\n",
    "#-------------------------------------------------------------------------------------------------------------------------------\n",
    "#-------------------------------------------------------------------------------------------------------------------------------\n",
    "from sklearn.metrics import accuracy_score                          # For calculating the accuracy for the model\n",
    "from sklearn.metrics import precision_score                         # For calculating the Precision of the model\n",
    "from sklearn.metrics import recall_score                            # For calculating the recall of the model\n",
    "from sklearn.metrics import precision_recall_curve                  # For precision and recall metric estimation\n",
    "from sklearn.metrics import confusion_matrix                        # For verifying model performance using confusion matrix\n",
    "from sklearn.metrics import f1_score                                # For Checking the F1-Score of our model  \n",
    "from sklearn.metrics import roc_curve                               # For Roc-Auc metric estimation\n",
    "from sklearn.metrics import plot_roc_curve\n",
    "#-------------------------------------------------------------------------------------------------------------------------------\n",
    "from sklearn.model_selection import train_test_split                # To split the data in training and testing part     \n",
    "from sklearn.linear_model import LogisticRegression                 # To create the Logistic Regression Model\n",
    "#-------------------------------------------------------------------------------------------------------------------------------\n",
    "import warnings                                                     # Importing warning to disable runtime warnings\n",
    "warnings.filterwarnings(\"ignore\")                                   # Warnings will appear only once\n",
    "\n",
    "#Printing version of few key libraries to ensure correct once are used\n",
    "print (\"pandas version\", pd.__version__)\n",
    "print (\"numpy version\", np.__version__)\n",
    "print (\"seaborn version\", sns.__version__)\n",
    "print (\"sklearn version\", sklearn.__version__)"
   ]
  },
  {
   "cell_type": "markdown",
   "metadata": {
    "id": "UrpwmWxc7iif"
   },
   "source": [
    "---\n",
    "<a name = Section4></a>\n",
    "# **4. Data Acquisition & Description**\n",
    "---\n",
    "\n",
    "- The **dataset** consists of the information about **Customers** Along with column **Revenue_Grid** which classifies the customers into high net worth customers (1) and low net worth customers (2).\n",
    "\n",
    "\n",
    "| Records | Features | Dataset Size |\n",
    "| :-- | :-- | :-- |\n",
    "| 8124 | 32 | 1619 KB | \n",
    "\n",
    "<br>\n",
    "\n",
    "| ID | Feature Name | Description of the feature |\n",
    "| :-- | :--| :--| \n",
    "|01| **REF_NO**   | Reference Number of the customer                          |\n",
    "|02| **children**      | Number of children each customer has                 |\n",
    "|03| **Age_band**        | Age Group to which the customer belongs            |\n",
    "|04| **status**          | Marital Status of the customer                     |\n",
    "|05| **occupation**      | Job or profession of the customer                  |\n",
    "|06| **occupation_partner**           | Job or profession of the customer's partner                                  |\n",
    "|07| **home_status**     | Home Status of the customers |\n",
    "|08| **family_income**     | Income Range of the customer's family|\n",
    "|09| **self_employed**        | Whether self-employed or not                                         |\n",
    "|10| **self_employed_partner**          | Whether the partner self-employed or not                                   |\n",
    "|11| **year_last_moved**         | Moving Year from the last location of the customer  |\n",
    "|12| **TVarea**     | Television Region of the customer                                   |\n",
    "|13| **post_code**     | \tPostal Code of the customer                                  |\n",
    "|14| **post_area**     | Postal Area of the customer                                  |\n",
    "|15| **Average_Credit_Card_Transaction**     | Average Credit Card Transaction per year by the customer           |\n",
    "|16| **Balance_Transfer**     | Transfer of the Balance in an account to another account by the customer           |\n",
    "|17| **Term_Deposit**     | Cash Investment Help at Financial Institute provided to the customer                              |\n",
    "|18| **Life_Insurance**     | Basic Life Insurance Coverage of the customer                                  |\n",
    "|19| **Medical_Insurance**     | Medical Insurance Coverage of the customer                                  |\n",
    "|20| **Average_A/C_Balance**     | Average Balance in the account of the customer                                  |\n",
    "|21| **Personal_Loan**     | Amount of Personal Loan taken by the customer                                  |\n",
    "|22| **Investment_in_Mutual_Fund**     | Amount Invested in Mutual Funds by the customer                                  |\n",
    "|23| **Investment_Tax_Saving_Bond**     | Amount Invested in Tax Saving Bond by the customer                                  |\n",
    "|24| **Home_Loan**     | Amount of Home Loan taken by the customer                                   |\n",
    "|25| **Online_Purchase_Amount**     | Amount spent by the customer on online purchases                                   |\n",
    "|26| **gender**     | Gender of the customer                                   |\n",
    "|27| **region**     | Region of the customer                                   |\n",
    "|28| **Investment_in_Commodity**     | Amount Invested in Commodity by the customer                                   |\n",
    "|29| **Investment_in_Equity**     | Amount Invested in Equity by the customer                                   |\n",
    "|30| **Investment_in_Derivative**     | Amount Invested in Derivatives by the customer                                   |\n",
    "|31| **Portfolio_Balance**     | \tBalanced Investment Strategy of the customer                                   |\n",
    "|32| **Revenue_Grid**     | Grid report of the customers                                   |"
   ]
  },
  {
   "cell_type": "markdown",
   "metadata": {
    "id": "XFqXRKo690e5"
   },
   "source": [
    "- Load AE Corp Retail Bank Customer Data to be used for Training and Validation"
   ]
  },
  {
   "cell_type": "code",
   "execution_count": 224,
   "metadata": {
    "colab": {
     "base_uri": "https://localhost:8080/",
     "height": 340
    },
    "id": "xxBLyDgo7a7H",
    "outputId": "8321793d-7421-416d-bd8b-37e3c6063469"
   },
   "outputs": [
    {
     "name": "stdout",
     "output_type": "stream",
     "text": [
      "Shape of the Training and Validation dataset: (8124, 31)\n"
     ]
    },
    {
     "data": {
      "text/html": [
       "<div>\n",
       "<style scoped>\n",
       "    .dataframe tbody tr th:only-of-type {\n",
       "        vertical-align: middle;\n",
       "    }\n",
       "\n",
       "    .dataframe tbody tr th {\n",
       "        vertical-align: top;\n",
       "    }\n",
       "\n",
       "    .dataframe thead th {\n",
       "        text-align: right;\n",
       "    }\n",
       "</style>\n",
       "<table border=\"1\" class=\"dataframe\">\n",
       "  <thead>\n",
       "    <tr style=\"text-align: right;\">\n",
       "      <th></th>\n",
       "      <th>children</th>\n",
       "      <th>age_band</th>\n",
       "      <th>status</th>\n",
       "      <th>occupation</th>\n",
       "      <th>occupation_partner</th>\n",
       "      <th>home_status</th>\n",
       "      <th>family_income</th>\n",
       "      <th>self_employed</th>\n",
       "      <th>self_employed_partner</th>\n",
       "      <th>year_last_moved</th>\n",
       "      <th>TVarea</th>\n",
       "      <th>post_code</th>\n",
       "      <th>post_area</th>\n",
       "      <th>Average_Credit_Card_Transaction</th>\n",
       "      <th>Balance_Transfer</th>\n",
       "      <th>Term_Deposit</th>\n",
       "      <th>Life_Insurance</th>\n",
       "      <th>Medical_Insurance</th>\n",
       "      <th>Average_A/C_Balance</th>\n",
       "      <th>Personal_Loan</th>\n",
       "      <th>Investment_in_Mutual_Fund</th>\n",
       "      <th>Investment_Tax_Saving_Bond</th>\n",
       "      <th>Home_Loan</th>\n",
       "      <th>Online_Purchase_Amount</th>\n",
       "      <th>gender</th>\n",
       "      <th>region</th>\n",
       "      <th>Investment_in_Commudity</th>\n",
       "      <th>Investment_in_Equity</th>\n",
       "      <th>Investment_in_Derivative</th>\n",
       "      <th>Portfolio_Balance</th>\n",
       "      <th>Revenue_Grid</th>\n",
       "    </tr>\n",
       "    <tr>\n",
       "      <th>REF_NO</th>\n",
       "      <th></th>\n",
       "      <th></th>\n",
       "      <th></th>\n",
       "      <th></th>\n",
       "      <th></th>\n",
       "      <th></th>\n",
       "      <th></th>\n",
       "      <th></th>\n",
       "      <th></th>\n",
       "      <th></th>\n",
       "      <th></th>\n",
       "      <th></th>\n",
       "      <th></th>\n",
       "      <th></th>\n",
       "      <th></th>\n",
       "      <th></th>\n",
       "      <th></th>\n",
       "      <th></th>\n",
       "      <th></th>\n",
       "      <th></th>\n",
       "      <th></th>\n",
       "      <th></th>\n",
       "      <th></th>\n",
       "      <th></th>\n",
       "      <th></th>\n",
       "      <th></th>\n",
       "      <th></th>\n",
       "      <th></th>\n",
       "      <th></th>\n",
       "      <th></th>\n",
       "      <th></th>\n",
       "    </tr>\n",
       "  </thead>\n",
       "  <tbody>\n",
       "    <tr>\n",
       "      <th>5466</th>\n",
       "      <td>2</td>\n",
       "      <td>31-35</td>\n",
       "      <td>Partner</td>\n",
       "      <td>Professional</td>\n",
       "      <td>Professional</td>\n",
       "      <td>Own Home</td>\n",
       "      <td>&gt;=35,000</td>\n",
       "      <td>No</td>\n",
       "      <td>No</td>\n",
       "      <td>1981</td>\n",
       "      <td>Meridian</td>\n",
       "      <td>M51 0GU</td>\n",
       "      <td>M51</td>\n",
       "      <td>26.98</td>\n",
       "      <td>29.99</td>\n",
       "      <td>312.25</td>\n",
       "      <td>299.79</td>\n",
       "      <td>88.72</td>\n",
       "      <td>108.85</td>\n",
       "      <td>175.43</td>\n",
       "      <td>134.35</td>\n",
       "      <td>8.98</td>\n",
       "      <td>55.44</td>\n",
       "      <td>7.68</td>\n",
       "      <td>Female</td>\n",
       "      <td>North West</td>\n",
       "      <td>151.55</td>\n",
       "      <td>81.79</td>\n",
       "      <td>136.02</td>\n",
       "      <td>360.37</td>\n",
       "      <td>2</td>\n",
       "    </tr>\n",
       "    <tr>\n",
       "      <th>9091</th>\n",
       "      <td>Zero</td>\n",
       "      <td>45-50</td>\n",
       "      <td>Partner</td>\n",
       "      <td>Secretarial/Admin</td>\n",
       "      <td>Professional</td>\n",
       "      <td>Own Home</td>\n",
       "      <td>&gt;=35,000</td>\n",
       "      <td>No</td>\n",
       "      <td>No</td>\n",
       "      <td>1997</td>\n",
       "      <td>Meridian</td>\n",
       "      <td>L40 2AG</td>\n",
       "      <td>L40</td>\n",
       "      <td>35.98</td>\n",
       "      <td>74.48</td>\n",
       "      <td>0.00</td>\n",
       "      <td>99.96</td>\n",
       "      <td>10.99</td>\n",
       "      <td>48.45</td>\n",
       "      <td>15.99</td>\n",
       "      <td>0.00</td>\n",
       "      <td>0.00</td>\n",
       "      <td>0.00</td>\n",
       "      <td>18.99</td>\n",
       "      <td>Female</td>\n",
       "      <td>North West</td>\n",
       "      <td>44.28</td>\n",
       "      <td>13.91</td>\n",
       "      <td>29.23</td>\n",
       "      <td>89.22</td>\n",
       "      <td>2</td>\n",
       "    </tr>\n",
       "    <tr>\n",
       "      <th>9744</th>\n",
       "      <td>1</td>\n",
       "      <td>36-40</td>\n",
       "      <td>Partner</td>\n",
       "      <td>Manual Worker</td>\n",
       "      <td>Manual Worker</td>\n",
       "      <td>Rent Privately</td>\n",
       "      <td>&lt;22,500, &gt;=20,000</td>\n",
       "      <td>Yes</td>\n",
       "      <td>Yes</td>\n",
       "      <td>1996</td>\n",
       "      <td>HTV</td>\n",
       "      <td>TA19 9PT</td>\n",
       "      <td>TA19</td>\n",
       "      <td>0.00</td>\n",
       "      <td>24.46</td>\n",
       "      <td>0.00</td>\n",
       "      <td>18.44</td>\n",
       "      <td>0.00</td>\n",
       "      <td>0.00</td>\n",
       "      <td>0.02</td>\n",
       "      <td>10.46</td>\n",
       "      <td>0.00</td>\n",
       "      <td>0.00</td>\n",
       "      <td>0.00</td>\n",
       "      <td>Female</td>\n",
       "      <td>South West</td>\n",
       "      <td>8.58</td>\n",
       "      <td>1.75</td>\n",
       "      <td>4.82</td>\n",
       "      <td>14.50</td>\n",
       "      <td>2</td>\n",
       "    </tr>\n",
       "    <tr>\n",
       "      <th>10700</th>\n",
       "      <td>2</td>\n",
       "      <td>31-35</td>\n",
       "      <td>Partner</td>\n",
       "      <td>Manual Worker</td>\n",
       "      <td>Manual Worker</td>\n",
       "      <td>Own Home</td>\n",
       "      <td>&lt;25,000, &gt;=22,500</td>\n",
       "      <td>No</td>\n",
       "      <td>No</td>\n",
       "      <td>1990</td>\n",
       "      <td>Scottish TV</td>\n",
       "      <td>FK2 9NG</td>\n",
       "      <td>FK2</td>\n",
       "      <td>44.99</td>\n",
       "      <td>0.00</td>\n",
       "      <td>0.00</td>\n",
       "      <td>0.00</td>\n",
       "      <td>29.99</td>\n",
       "      <td>0.00</td>\n",
       "      <td>0.00</td>\n",
       "      <td>0.00</td>\n",
       "      <td>0.00</td>\n",
       "      <td>0.00</td>\n",
       "      <td>0.00</td>\n",
       "      <td>Female</td>\n",
       "      <td>Scotland</td>\n",
       "      <td>15.00</td>\n",
       "      <td>0.00</td>\n",
       "      <td>5.00</td>\n",
       "      <td>68.98</td>\n",
       "      <td>2</td>\n",
       "    </tr>\n",
       "    <tr>\n",
       "      <th>1987</th>\n",
       "      <td>Zero</td>\n",
       "      <td>55-60</td>\n",
       "      <td>Partner</td>\n",
       "      <td>Housewife</td>\n",
       "      <td>Professional</td>\n",
       "      <td>Own Home</td>\n",
       "      <td>&gt;=35,000</td>\n",
       "      <td>No</td>\n",
       "      <td>No</td>\n",
       "      <td>1989</td>\n",
       "      <td>Yorkshire</td>\n",
       "      <td>LS23 7DJ</td>\n",
       "      <td>LS23</td>\n",
       "      <td>0.00</td>\n",
       "      <td>0.00</td>\n",
       "      <td>0.00</td>\n",
       "      <td>0.00</td>\n",
       "      <td>0.00</td>\n",
       "      <td>0.00</td>\n",
       "      <td>0.00</td>\n",
       "      <td>9.98</td>\n",
       "      <td>0.00</td>\n",
       "      <td>0.00</td>\n",
       "      <td>0.00</td>\n",
       "      <td>Female</td>\n",
       "      <td>Unknown</td>\n",
       "      <td>0.00</td>\n",
       "      <td>1.66</td>\n",
       "      <td>1.66</td>\n",
       "      <td>1.88</td>\n",
       "      <td>2</td>\n",
       "    </tr>\n",
       "  </tbody>\n",
       "</table>\n",
       "</div>"
      ],
      "text/plain": [
       "       children age_band   status         occupation occupation_partner  \\\n",
       "REF_NO                                                                    \n",
       "5466          2    31-35  Partner       Professional       Professional   \n",
       "9091       Zero    45-50  Partner  Secretarial/Admin       Professional   \n",
       "9744          1    36-40  Partner      Manual Worker      Manual Worker   \n",
       "10700         2    31-35  Partner      Manual Worker      Manual Worker   \n",
       "1987       Zero    55-60  Partner          Housewife       Professional   \n",
       "\n",
       "           home_status      family_income self_employed self_employed_partner  \\\n",
       "REF_NO                                                                          \n",
       "5466          Own Home           >=35,000            No                    No   \n",
       "9091          Own Home           >=35,000            No                    No   \n",
       "9744    Rent Privately  <22,500, >=20,000           Yes                   Yes   \n",
       "10700         Own Home  <25,000, >=22,500            No                    No   \n",
       "1987          Own Home           >=35,000            No                    No   \n",
       "\n",
       "        year_last_moved       TVarea post_code post_area  \\\n",
       "REF_NO                                                     \n",
       "5466               1981     Meridian   M51 0GU       M51   \n",
       "9091               1997     Meridian   L40 2AG       L40   \n",
       "9744               1996          HTV  TA19 9PT      TA19   \n",
       "10700              1990  Scottish TV   FK2 9NG       FK2   \n",
       "1987               1989    Yorkshire  LS23 7DJ      LS23   \n",
       "\n",
       "        Average_Credit_Card_Transaction  Balance_Transfer  Term_Deposit  \\\n",
       "REF_NO                                                                    \n",
       "5466                              26.98             29.99        312.25   \n",
       "9091                              35.98             74.48          0.00   \n",
       "9744                               0.00             24.46          0.00   \n",
       "10700                             44.99              0.00          0.00   \n",
       "1987                               0.00              0.00          0.00   \n",
       "\n",
       "        Life_Insurance  Medical_Insurance  Average_A/C_Balance  Personal_Loan  \\\n",
       "REF_NO                                                                          \n",
       "5466            299.79              88.72               108.85         175.43   \n",
       "9091             99.96              10.99                48.45          15.99   \n",
       "9744             18.44               0.00                 0.00           0.02   \n",
       "10700             0.00              29.99                 0.00           0.00   \n",
       "1987              0.00               0.00                 0.00           0.00   \n",
       "\n",
       "        Investment_in_Mutual_Fund  Investment_Tax_Saving_Bond  Home_Loan  \\\n",
       "REF_NO                                                                     \n",
       "5466                       134.35                        8.98      55.44   \n",
       "9091                         0.00                        0.00       0.00   \n",
       "9744                        10.46                        0.00       0.00   \n",
       "10700                        0.00                        0.00       0.00   \n",
       "1987                         9.98                        0.00       0.00   \n",
       "\n",
       "        Online_Purchase_Amount  gender      region  Investment_in_Commudity  \\\n",
       "REF_NO                                                                        \n",
       "5466                      7.68  Female  North West                   151.55   \n",
       "9091                     18.99  Female  North West                    44.28   \n",
       "9744                      0.00  Female  South West                     8.58   \n",
       "10700                     0.00  Female    Scotland                    15.00   \n",
       "1987                      0.00  Female     Unknown                     0.00   \n",
       "\n",
       "        Investment_in_Equity  Investment_in_Derivative  Portfolio_Balance  \\\n",
       "REF_NO                                                                      \n",
       "5466                   81.79                    136.02             360.37   \n",
       "9091                   13.91                     29.23              89.22   \n",
       "9744                    1.75                      4.82              14.50   \n",
       "10700                   0.00                      5.00              68.98   \n",
       "1987                    1.66                      1.66               1.88   \n",
       "\n",
       "        Revenue_Grid  \n",
       "REF_NO                \n",
       "5466               2  \n",
       "9091               2  \n",
       "9744               2  \n",
       "10700              2  \n",
       "1987               2  "
      ]
     },
     "execution_count": 224,
     "metadata": {},
     "output_type": "execute_result"
    }
   ],
   "source": [
    "# REF_NO is unique ID for customer and can be used as label for index\n",
    "cust_master_data = pd.read_csv(\"https://raw.githubusercontent.com/girishksahu/INSAID2021-ML-Foundation-Customer_Classification/SMART_AI_Learning/existing_base_train.csv\", index_col='REF_NO')\n",
    "\n",
    "# Get the dimesions of data\n",
    "print('Shape of the Training and Validation dataset:', cust_master_data.shape)\n",
    "\n",
    "# Output first 5 data rows\n",
    "cust_master_data.head()\n"
   ]
  },
  {
   "cell_type": "code",
   "execution_count": null,
   "metadata": {
    "id": "cCRboY6_Eipv"
   },
   "outputs": [],
   "source": [
    "#There is error in spelling of column Investment_in_Commudity, so renaming it for better clarity\n",
    "cust_master_data=cust_master_data.rename(columns={'Investment_in_Commudity':'Investment_in_Commodity'})"
   ]
  },
  {
   "cell_type": "markdown",
   "metadata": {
    "id": "tTuO0pmQ90e7"
   },
   "source": [
    "- Load AE Corp Retail Bank Customer Test Data to be used for Prediction"
   ]
  },
  {
   "cell_type": "code",
   "execution_count": 225,
   "metadata": {
    "colab": {
     "base_uri": "https://localhost:8080/",
     "height": 357
    },
    "id": "vLcrXKX190e7",
    "outputId": "e92b232a-2d40-4b56-b9de-e1d1c1fea1cc"
   },
   "outputs": [
    {
     "name": "stdout",
     "output_type": "stream",
     "text": [
      "Shape of the Test dataset to be used for Prediction: (2031, 31)\n"
     ]
    },
    {
     "data": {
      "text/html": [
       "<div>\n",
       "<style scoped>\n",
       "    .dataframe tbody tr th:only-of-type {\n",
       "        vertical-align: middle;\n",
       "    }\n",
       "\n",
       "    .dataframe tbody tr th {\n",
       "        vertical-align: top;\n",
       "    }\n",
       "\n",
       "    .dataframe thead th {\n",
       "        text-align: right;\n",
       "    }\n",
       "</style>\n",
       "<table border=\"1\" class=\"dataframe\">\n",
       "  <thead>\n",
       "    <tr style=\"text-align: right;\">\n",
       "      <th></th>\n",
       "      <th>children</th>\n",
       "      <th>age_band</th>\n",
       "      <th>status</th>\n",
       "      <th>occupation</th>\n",
       "      <th>occupation_partner</th>\n",
       "      <th>home_status</th>\n",
       "      <th>family_income</th>\n",
       "      <th>self_employed</th>\n",
       "      <th>self_employed_partner</th>\n",
       "      <th>year_last_moved</th>\n",
       "      <th>TVarea</th>\n",
       "      <th>post_code</th>\n",
       "      <th>post_area</th>\n",
       "      <th>Average_Credit_Card_Transaction</th>\n",
       "      <th>Balance_Transfer</th>\n",
       "      <th>Term_Deposit</th>\n",
       "      <th>Life_Insurance</th>\n",
       "      <th>Medical_Insurance</th>\n",
       "      <th>Average_A/C_Balance</th>\n",
       "      <th>Personal_Loan</th>\n",
       "      <th>Investment_in_Mutual_Fund</th>\n",
       "      <th>Investment_Tax_Saving_Bond</th>\n",
       "      <th>Home_Loan</th>\n",
       "      <th>Online_Purchase_Amount</th>\n",
       "      <th>gender</th>\n",
       "      <th>region</th>\n",
       "      <th>Investment_in_Commudity</th>\n",
       "      <th>Investment_in_Equity</th>\n",
       "      <th>Investment_in_Derivative</th>\n",
       "      <th>Portfolio_Balance</th>\n",
       "      <th>Revenue_Grid</th>\n",
       "    </tr>\n",
       "    <tr>\n",
       "      <th>REF_NO</th>\n",
       "      <th></th>\n",
       "      <th></th>\n",
       "      <th></th>\n",
       "      <th></th>\n",
       "      <th></th>\n",
       "      <th></th>\n",
       "      <th></th>\n",
       "      <th></th>\n",
       "      <th></th>\n",
       "      <th></th>\n",
       "      <th></th>\n",
       "      <th></th>\n",
       "      <th></th>\n",
       "      <th></th>\n",
       "      <th></th>\n",
       "      <th></th>\n",
       "      <th></th>\n",
       "      <th></th>\n",
       "      <th></th>\n",
       "      <th></th>\n",
       "      <th></th>\n",
       "      <th></th>\n",
       "      <th></th>\n",
       "      <th></th>\n",
       "      <th></th>\n",
       "      <th></th>\n",
       "      <th></th>\n",
       "      <th></th>\n",
       "      <th></th>\n",
       "      <th></th>\n",
       "      <th></th>\n",
       "    </tr>\n",
       "  </thead>\n",
       "  <tbody>\n",
       "    <tr>\n",
       "      <th>697</th>\n",
       "      <td>Zero</td>\n",
       "      <td>71+</td>\n",
       "      <td>Partner</td>\n",
       "      <td>Retired</td>\n",
       "      <td>Housewife</td>\n",
       "      <td>Own Home</td>\n",
       "      <td>&lt;12,500, &gt;=10,000</td>\n",
       "      <td>No</td>\n",
       "      <td>No</td>\n",
       "      <td>1973</td>\n",
       "      <td>Meridian</td>\n",
       "      <td>BH21 2JQ</td>\n",
       "      <td>BH21</td>\n",
       "      <td>41.98</td>\n",
       "      <td>55.47</td>\n",
       "      <td>24.99</td>\n",
       "      <td>29.98</td>\n",
       "      <td>49.98</td>\n",
       "      <td>44.47</td>\n",
       "      <td>0.00</td>\n",
       "      <td>45.97</td>\n",
       "      <td>0.00</td>\n",
       "      <td>0.00</td>\n",
       "      <td>0.00</td>\n",
       "      <td>Male</td>\n",
       "      <td>South West</td>\n",
       "      <td>40.48</td>\n",
       "      <td>15.07</td>\n",
       "      <td>28.40</td>\n",
       "      <td>83.05</td>\n",
       "      <td>2</td>\n",
       "    </tr>\n",
       "    <tr>\n",
       "      <th>7897</th>\n",
       "      <td>Zero</td>\n",
       "      <td>31-35</td>\n",
       "      <td>Partner</td>\n",
       "      <td>Unknown</td>\n",
       "      <td>Business Manager</td>\n",
       "      <td>Own Home</td>\n",
       "      <td>&gt;=35,000</td>\n",
       "      <td>No</td>\n",
       "      <td>No</td>\n",
       "      <td>1996</td>\n",
       "      <td>Anglia</td>\n",
       "      <td>CM6 3QS</td>\n",
       "      <td>CM6</td>\n",
       "      <td>0.00</td>\n",
       "      <td>0.00</td>\n",
       "      <td>0.00</td>\n",
       "      <td>99.91</td>\n",
       "      <td>35.42</td>\n",
       "      <td>29.49</td>\n",
       "      <td>170.31</td>\n",
       "      <td>133.88</td>\n",
       "      <td>27.45</td>\n",
       "      <td>13.47</td>\n",
       "      <td>57.46</td>\n",
       "      <td>Male</td>\n",
       "      <td>South East</td>\n",
       "      <td>27.07</td>\n",
       "      <td>72.01</td>\n",
       "      <td>82.74</td>\n",
       "      <td>235.29</td>\n",
       "      <td>1</td>\n",
       "    </tr>\n",
       "    <tr>\n",
       "      <th>4729</th>\n",
       "      <td>Zero</td>\n",
       "      <td>71+</td>\n",
       "      <td>Partner</td>\n",
       "      <td>Housewife</td>\n",
       "      <td>Retired</td>\n",
       "      <td>Own Home</td>\n",
       "      <td>&lt;15,000, &gt;=12,500</td>\n",
       "      <td>No</td>\n",
       "      <td>No</td>\n",
       "      <td>1958</td>\n",
       "      <td>HTV</td>\n",
       "      <td>BA12 9JW</td>\n",
       "      <td>BA12</td>\n",
       "      <td>0.00</td>\n",
       "      <td>154.47</td>\n",
       "      <td>0.00</td>\n",
       "      <td>67.47</td>\n",
       "      <td>0.00</td>\n",
       "      <td>87.83</td>\n",
       "      <td>0.00</td>\n",
       "      <td>107.88</td>\n",
       "      <td>0.00</td>\n",
       "      <td>0.00</td>\n",
       "      <td>0.00</td>\n",
       "      <td>Female</td>\n",
       "      <td>South West</td>\n",
       "      <td>44.39</td>\n",
       "      <td>32.62</td>\n",
       "      <td>43.86</td>\n",
       "      <td>98.38</td>\n",
       "      <td>1</td>\n",
       "    </tr>\n",
       "    <tr>\n",
       "      <th>6914</th>\n",
       "      <td>1</td>\n",
       "      <td>22-25</td>\n",
       "      <td>Partner</td>\n",
       "      <td>Other</td>\n",
       "      <td>Other</td>\n",
       "      <td>Own Home</td>\n",
       "      <td>&lt;17,500, &gt;=15,000</td>\n",
       "      <td>No</td>\n",
       "      <td>No</td>\n",
       "      <td>1993</td>\n",
       "      <td>Grampian</td>\n",
       "      <td>AB22 8SP</td>\n",
       "      <td>AB22</td>\n",
       "      <td>18.98</td>\n",
       "      <td>60.98</td>\n",
       "      <td>0.00</td>\n",
       "      <td>17.99</td>\n",
       "      <td>9.99</td>\n",
       "      <td>0.00</td>\n",
       "      <td>102.43</td>\n",
       "      <td>44.96</td>\n",
       "      <td>0.00</td>\n",
       "      <td>0.00</td>\n",
       "      <td>0.00</td>\n",
       "      <td>Female</td>\n",
       "      <td>Scotland</td>\n",
       "      <td>21.59</td>\n",
       "      <td>24.57</td>\n",
       "      <td>29.23</td>\n",
       "      <td>86.32</td>\n",
       "      <td>1</td>\n",
       "    </tr>\n",
       "    <tr>\n",
       "      <th>2795</th>\n",
       "      <td>Zero</td>\n",
       "      <td>65-70</td>\n",
       "      <td>Widowed</td>\n",
       "      <td>Retired</td>\n",
       "      <td>Unknown</td>\n",
       "      <td>Own Home</td>\n",
       "      <td>&lt; 4,000</td>\n",
       "      <td>No</td>\n",
       "      <td>No</td>\n",
       "      <td>1976</td>\n",
       "      <td>Meridian</td>\n",
       "      <td>PO37 6AD</td>\n",
       "      <td>PO37</td>\n",
       "      <td>0.00</td>\n",
       "      <td>144.90</td>\n",
       "      <td>0.00</td>\n",
       "      <td>123.38</td>\n",
       "      <td>0.00</td>\n",
       "      <td>32.98</td>\n",
       "      <td>0.00</td>\n",
       "      <td>33.96</td>\n",
       "      <td>6.99</td>\n",
       "      <td>17.93</td>\n",
       "      <td>5.45</td>\n",
       "      <td>Female</td>\n",
       "      <td>South East</td>\n",
       "      <td>53.66</td>\n",
       "      <td>16.22</td>\n",
       "      <td>32.89</td>\n",
       "      <td>102.99</td>\n",
       "      <td>1</td>\n",
       "    </tr>\n",
       "  </tbody>\n",
       "</table>\n",
       "</div>"
      ],
      "text/plain": [
       "       children age_band   status occupation occupation_partner home_status  \\\n",
       "REF_NO                                                                        \n",
       "697        Zero      71+  Partner    Retired          Housewife    Own Home   \n",
       "7897       Zero    31-35  Partner    Unknown   Business Manager    Own Home   \n",
       "4729       Zero      71+  Partner  Housewife            Retired    Own Home   \n",
       "6914          1    22-25  Partner      Other              Other    Own Home   \n",
       "2795       Zero    65-70  Widowed    Retired            Unknown    Own Home   \n",
       "\n",
       "            family_income self_employed self_employed_partner  \\\n",
       "REF_NO                                                          \n",
       "697     <12,500, >=10,000            No                    No   \n",
       "7897             >=35,000            No                    No   \n",
       "4729    <15,000, >=12,500            No                    No   \n",
       "6914    <17,500, >=15,000            No                    No   \n",
       "2795              < 4,000            No                    No   \n",
       "\n",
       "        year_last_moved    TVarea post_code post_area  \\\n",
       "REF_NO                                                  \n",
       "697                1973  Meridian  BH21 2JQ      BH21   \n",
       "7897               1996    Anglia   CM6 3QS       CM6   \n",
       "4729               1958       HTV  BA12 9JW      BA12   \n",
       "6914               1993  Grampian  AB22 8SP      AB22   \n",
       "2795               1976  Meridian  PO37 6AD      PO37   \n",
       "\n",
       "        Average_Credit_Card_Transaction  Balance_Transfer  Term_Deposit  \\\n",
       "REF_NO                                                                    \n",
       "697                               41.98             55.47         24.99   \n",
       "7897                               0.00              0.00          0.00   \n",
       "4729                               0.00            154.47          0.00   \n",
       "6914                              18.98             60.98          0.00   \n",
       "2795                               0.00            144.90          0.00   \n",
       "\n",
       "        Life_Insurance  Medical_Insurance  Average_A/C_Balance  Personal_Loan  \\\n",
       "REF_NO                                                                          \n",
       "697              29.98              49.98                44.47           0.00   \n",
       "7897             99.91              35.42                29.49         170.31   \n",
       "4729             67.47               0.00                87.83           0.00   \n",
       "6914             17.99               9.99                 0.00         102.43   \n",
       "2795            123.38               0.00                32.98           0.00   \n",
       "\n",
       "        Investment_in_Mutual_Fund  Investment_Tax_Saving_Bond  Home_Loan  \\\n",
       "REF_NO                                                                     \n",
       "697                         45.97                        0.00       0.00   \n",
       "7897                       133.88                       27.45      13.47   \n",
       "4729                       107.88                        0.00       0.00   \n",
       "6914                        44.96                        0.00       0.00   \n",
       "2795                        33.96                        6.99      17.93   \n",
       "\n",
       "        Online_Purchase_Amount  gender      region  Investment_in_Commudity  \\\n",
       "REF_NO                                                                        \n",
       "697                       0.00    Male  South West                    40.48   \n",
       "7897                     57.46    Male  South East                    27.07   \n",
       "4729                      0.00  Female  South West                    44.39   \n",
       "6914                      0.00  Female    Scotland                    21.59   \n",
       "2795                      5.45  Female  South East                    53.66   \n",
       "\n",
       "        Investment_in_Equity  Investment_in_Derivative  Portfolio_Balance  \\\n",
       "REF_NO                                                                      \n",
       "697                    15.07                     28.40              83.05   \n",
       "7897                   72.01                     82.74             235.29   \n",
       "4729                   32.62                     43.86              98.38   \n",
       "6914                   24.57                     29.23              86.32   \n",
       "2795                   16.22                     32.89             102.99   \n",
       "\n",
       "        Revenue_Grid  \n",
       "REF_NO                \n",
       "697                2  \n",
       "7897               1  \n",
       "4729               1  \n",
       "6914               1  \n",
       "2795               1  "
      ]
     },
     "execution_count": 225,
     "metadata": {},
     "output_type": "execute_result"
    }
   ],
   "source": [
    "# REF_NO is unique ID for customer and can be used as label for index\n",
    "cust_test_data = pd.read_csv(\"https://raw.githubusercontent.com/girishksahu/INSAID2021-ML-Foundation-Customer_Classification/SMART_AI_Learning/existing_base_test.csv\", index_col='REF_NO')\n",
    "\n",
    "# Get the dimesions of data\n",
    "print('Shape of the Test dataset to be used for Prediction:', cust_test_data.shape)\n",
    "\n",
    "# Output first 5 data rows\n",
    "cust_test_data.head()"
   ]
  },
  {
   "cell_type": "code",
   "execution_count": null,
   "metadata": {
    "id": "VyD6hweR90e7"
   },
   "outputs": [],
   "source": [
    "#There is error in spelling of column Investment_in_Commudity, so renaming it for better clarity\n",
    "cust_test_data=cust_test_data.rename(columns={'Investment_in_Commudity':'Investment_in_Commodity'})"
   ]
  },
  {
   "cell_type": "code",
   "execution_count": null,
   "metadata": {
    "colab": {
     "base_uri": "https://localhost:8080/"
    },
    "id": "tugM4joIEipv",
    "outputId": "1f5dc041-eddd-4cd4-c4c4-2919ca72b2a4"
   },
   "outputs": [],
   "source": [
    "# Check for any missing values\n",
    "any(cust_master_data.isna().sum())"
   ]
  },
  {
   "cell_type": "code",
   "execution_count": null,
   "metadata": {
    "colab": {
     "base_uri": "https://localhost:8080/"
    },
    "id": "xD8YT7na90e8",
    "outputId": "0146fa9b-1333-4ec5-cadb-e66eed64b7e1"
   },
   "outputs": [],
   "source": [
    "#check if any duplicate row\n",
    "any(cust_master_data.duplicated())"
   ]
  },
  {
   "cell_type": "markdown",
   "metadata": {
    "id": "SpQsei5Q8BGS"
   },
   "source": [
    "<a name = Section41></a>\n",
    "### **4.1 Data Description**\n",
    "\n",
    "- In this section we will get **information about the data** and see some observations."
   ]
  },
  {
   "cell_type": "code",
   "execution_count": null,
   "metadata": {
    "colab": {
     "base_uri": "https://localhost:8080/",
     "height": 80
    },
    "id": "Z5c6POtLEipv",
    "outputId": "37b8e095-6fc2-44eb-d095-268f407d1dc0"
   },
   "outputs": [],
   "source": [
    "#year_last_moved is not relevant for statistical details but need to check count just to confirm\n",
    "#Revenue_Grid is Target variable and has two category as 1(High Net Worth) and 2 (Low Net Worth)\n",
    "cust_master_data.describe(include=[np.int64]).filter(items=['count'], axis=0)"
   ]
  },
  {
   "cell_type": "code",
   "execution_count": null,
   "metadata": {
    "colab": {
     "base_uri": "https://localhost:8080/",
     "height": 317
    },
    "id": "vmYaroaO7XSG",
    "outputId": "f204e07e-bfa8-44e5-e476-c7b65fd39efa"
   },
   "outputs": [],
   "source": [
    "#Basic statistical details for numeric variables\n",
    "cust_master_data.describe(include=[np.float64])"
   ]
  },
  {
   "cell_type": "markdown",
   "metadata": {
    "id": "rgdPuEzB8Ncn"
   },
   "source": [
    "**Observations:**\n",
    "- Total count for all numeric variables is same as 8124 which confirms that there is no missing values.\n",
    "- Most of them have outliers and mean value is higher than median\n",
    "- Variables like **Personal_Loan**,**Average_Credit_Card_Transaction**, **Term_Deposit** and **Online_Purchase_Amount** etc. appears to be highly skewed.\n",
    "- Variables like **Investment_in_Commodity**, **Investment_in_Equity**, **Investment_in_Derivative** and **Portfolio_Balance** etc. also appears to be NOT having normal distribution."
   ]
  },
  {
   "cell_type": "code",
   "execution_count": null,
   "metadata": {
    "colab": {
     "base_uri": "https://localhost:8080/",
     "height": 210
    },
    "id": "MTeJbxvSEipw",
    "outputId": "041520f1-d3f3-437a-9ec7-32efdce924ae"
   },
   "outputs": [],
   "source": [
    "#Basic statistical details for categorical variables\n",
    "cust_master_data.describe(include=[np.object])"
   ]
  },
  {
   "cell_type": "markdown",
   "metadata": {
    "id": "QbQLixkYEipw"
   },
   "source": [
    "**Observations:**\n",
    "- Total count for all categorical variables is same as 8124 which confirms that there is no missing values. \n",
    "- Majority of customers are having **0 children** and falls in **age_band of 45-50** with having **partner as status**\n",
    "- Majority of customers are under **Professional occupation** and has **Own Home as home_status**\n",
    "- Majority of customers has category of **family_income >=35,000** and **gender as female**\n",
    "- Majority of customers are from **Central TVarea** with **PR5 post_area** in **South East region**"
   ]
  },
  {
   "cell_type": "code",
   "execution_count": null,
   "metadata": {
    "colab": {
     "base_uri": "https://localhost:8080/"
    },
    "id": "BNSfUnbNEipx",
    "outputId": "2ac07548-f80a-489a-9076-23ba5a08be23"
   },
   "outputs": [],
   "source": [
    "# Check any duplicate rows\n",
    "cust_master_data.duplicated().sum()"
   ]
  },
  {
   "cell_type": "code",
   "execution_count": null,
   "metadata": {
    "colab": {
     "base_uri": "https://localhost:8080/"
    },
    "id": "1-ig0Ha5Eipx",
    "outputId": "8565df87-1d7e-40ec-a70b-60b45341aa91"
   },
   "outputs": [],
   "source": [
    "# Columns list can be handy and useful for further steps\n",
    "cust_master_data.columns"
   ]
  },
  {
   "cell_type": "markdown",
   "metadata": {
    "id": "dQQ5Ks4P8PFv"
   },
   "source": [
    "<a name = Section42></a>\n",
    "### **4.2 Data Information**\n",
    "\n",
    "- In this section we will see the **information about the types of the features**."
   ]
  },
  {
   "cell_type": "code",
   "execution_count": null,
   "metadata": {
    "colab": {
     "base_uri": "https://localhost:8080/"
    },
    "id": "m3Rpdt3E8O0b",
    "outputId": "bca6762d-687e-49fe-d788-2c97c64a3ea6"
   },
   "outputs": [],
   "source": [
    "# Check column data types and any null values\n",
    "cust_master_data.info()"
   ]
  },
  {
   "cell_type": "markdown",
   "metadata": {
    "id": "n-SrlC0x8VIj"
   },
   "source": [
    "**Observations:**\n",
    "\n",
    "- Total Non-Null count for each column is same as 8124 which means there is no missing values.\n",
    "\n",
    "- There are **14 Categorical features**, **15 Numerical features** with 3 columns as integer feature as they contain numerical values."
   ]
  },
  {
   "cell_type": "code",
   "execution_count": null,
   "metadata": {
    "colab": {
     "base_uri": "https://localhost:8080/"
    },
    "id": "kndS14CHEipy",
    "outputId": "9f4987a4-276a-44f1-ee60-f167faf101a0"
   },
   "outputs": [],
   "source": [
    "# Get list of categorical variables\n",
    "s = (cust_master_data.dtypes == 'object')\n",
    "object_cols = list(s[s].index)\n",
    "\n",
    "print(\"Categorical variables:\")\n",
    "print(object_cols)"
   ]
  },
  {
   "cell_type": "code",
   "execution_count": null,
   "metadata": {
    "colab": {
     "base_uri": "https://localhost:8080/"
    },
    "id": "1JsnKy5tEipz",
    "outputId": "40625c43-67fe-4c66-a7b1-a9472edf4b43"
   },
   "outputs": [],
   "source": [
    "# Get list of numerical variables\n",
    "s = (cust_master_data.dtypes == 'int64')\n",
    "numeric_cols = list(s[s].index)\n",
    "\n",
    "print(\"Numeric variables INT:\")\n",
    "print(numeric_cols)"
   ]
  },
  {
   "cell_type": "code",
   "execution_count": null,
   "metadata": {
    "colab": {
     "base_uri": "https://localhost:8080/"
    },
    "id": "_hRC2qgyEipz",
    "outputId": "8bd40d5a-e9be-4b57-a5ad-516c5cec9dd3"
   },
   "outputs": [],
   "source": [
    "# Get list of numerical variables\n",
    "s = (cust_master_data.dtypes == 'float64')\n",
    "numeric_cols = list(s[s].index)\n",
    "\n",
    "print(\"Numeric variables Float:\")\n",
    "print(numeric_cols)"
   ]
  },
  {
   "cell_type": "markdown",
   "metadata": {
    "id": "x1UTfHz7H_Kj"
   },
   "source": [
    "### **Numerical Data Distribution:**\n",
    "\n",
    "- We shall plot all **numerical features to analyze the distribution** of their past."
   ]
  },
  {
   "cell_type": "code",
   "execution_count": null,
   "metadata": {
    "colab": {
     "base_uri": "https://localhost:8080/",
     "height": 946
    },
    "id": "_tkdLsT3AL02",
    "outputId": "3049a635-224a-4349-c314-28347feaaabf"
   },
   "outputs": [],
   "source": [
    "# For Random seed values\n",
    "from random import randint\n",
    "fig, axes = plt.subplots(nrows = 4, ncols = 4, sharex = False, figsize=(20, 15))\n",
    "colors = []\n",
    "for i in range(16):\n",
    "  colors.append('#%06X' % randint(0, 0xFFFFFF))\n",
    "  columns=['year_last_moved','Average_Credit_Card_Transaction', 'Balance_Transfer', 'Term_Deposit', 'Life_Insurance', 'Medical_Insurance', 'Average_A/C_Balance', 'Personal_Loan', 'Investment_in_Mutual_Fund', 'Investment_Tax_Saving_Bond', 'Home_Loan', 'Online_Purchase_Amount', 'Investment_in_Commodity', 'Investment_in_Equity', 'Investment_in_Derivative', 'Portfolio_Balance']\n",
    "for ax, col, color in zip(axes.flat, columns, colors):\n",
    "  sns.distplot(a = cust_master_data[col], bins = 50, ax = ax, color = color)\n",
    "  ax.set_title(col)\n",
    "  plt.setp(axes, yticks=[])\n",
    "  ax.grid(False)\n",
    "plt.tight_layout()\n",
    "plt.show()"
   ]
  },
  {
   "cell_type": "markdown",
   "metadata": {
    "id": "0k-6kZuVFdmx"
   },
   "source": [
    "**Observation:**\n",
    "\n",
    "- **Postive Skewed Features: (Mean > Median)**\n",
    " - Average_Credit_Card_Transaction,\n",
    " - Balance_Transfer, \n",
    " - Term_Deposit, \n",
    " - Life_Insurance, \n",
    " - Medical_Insurance, \n",
    " - Average_A/C_Balance, \n",
    " - Personal_Loan\n",
    " - Investment_in_Mutual_Fund\n",
    " - Investment_Tax_Saving_Bond\n",
    " - Home_Loan\n",
    " - Online_Purchase_Amount\n",
    " - Investment_in_Commodity\n",
    " - Investment_in_Equity\n",
    " - Investment_in_Derivative\n",
    " - Portfolio_Balance\n",
    "- **Negative Skewed Features: (Mean < Median)**\n",
    " - year_last_moved\n",
    "- **~ Normally Distributed Features: (Mean = Median = Mode)**\n",
    " - None"
   ]
  },
  {
   "cell_type": "markdown",
   "metadata": {
    "id": "GQzduMy6IIxV"
   },
   "source": [
    "### **Categorical Data Distribution:**\n",
    "\n",
    "- We shall plot all **categorical features to analyze the distribution** of the past data.\n"
   ]
  },
  {
   "cell_type": "code",
   "execution_count": null,
   "metadata": {
    "colab": {
     "base_uri": "https://localhost:8080/",
     "height": 730
    },
    "id": "Sj5GsmicBWbc",
    "outputId": "e28d34aa-8bf5-49a9-f6d6-962192d054d5"
   },
   "outputs": [],
   "source": [
    "fig, axes = plt.subplots(nrows = 4, ncols = 4, sharex = False, figsize=(20, 12))\n",
    "\n",
    "colors = []\n",
    "for i in range(14):\n",
    "  colors.append('#%06X' % randint(0, 0xFFFFFF))\n",
    "  \n",
    "for ax, col, color in zip(axes.flat, object_cols, colors):\n",
    "  ax.bar(x = cust_master_data[col].value_counts().index, height = cust_master_data[col].value_counts(), color = color)\n",
    "  ax.set_title(col)\n",
    "  ax.set_xlabel(' ')\n",
    "  ax.set_xticklabels(labels = ' ')\n",
    "  ax.grid(True)"
   ]
  },
  {
   "cell_type": "markdown",
   "metadata": {
    "id": "UsS2n3a0ITB7"
   },
   "source": [
    "**Observation:**\n",
    "\n",
    "- **Normal Distributed Features: (Mean = Median = Mode)**\n",
    " - age_band, \n",
    " - post_code, \n",
    " - post_area\n",
    "- **Postively Skewed Features: (Mean > Median)**\n",
    " - children, \n",
    " - status, \n",
    " - occupation, \n",
    " - occupation_partner,\n",
    " - home_status\n",
    " - family_income\n",
    " - self_employed\n",
    " - self_employed_partner\n",
    " - TVarea\n",
    " - gender\n",
    " - region\n",
    "- **Negatively Skewed Features: (Mean < Median)**\n",
    " - NA"
   ]
  },
  {
   "cell_type": "markdown",
   "metadata": {
    "id": "oQSEAjYy8XfW"
   },
   "source": [
    "<a name = Section5></a>\n",
    "\n",
    "---\n",
    "# **5. Data Pre-Processing**\n",
    "---"
   ]
  },
  {
   "cell_type": "markdown",
   "metadata": {
    "id": "4L4wU-sm8ZLg"
   },
   "source": [
    "<a name = Section51></a>\n",
    "### **5.1 Data Pre-Profiling**\n",
    "\n",
    "- For **quick analysis** pandas profiling is very handy.\n",
    "\n",
    "- Generates profile reports from a pandas DataFrame.\n",
    "\n",
    "- For each column **statistics** are presented in an interactive HTML report."
   ]
  },
  {
   "cell_type": "code",
   "execution_count": null,
   "metadata": {
    "id": "luX_DzAx8Owo"
   },
   "outputs": [],
   "source": [
    "# profile = ProfileReport(df=cust_master_data)\n",
    "# profile.to_file(output_file='Customer-classification Pre Profiling Report.html')\n",
    "# print('Accomplished!')"
   ]
  },
  {
   "cell_type": "markdown",
   "metadata": {
    "id": "tNG4bnZe8b6o"
   },
   "source": [
    "**Observations:**\n",
    "\n",
    "- The report shows that there are a **total** of **32 features** out of which **17** are **numerical**, **13** are **categorical** and **2** are showing of type **boolean** as per report but they are categorical too.\n",
    "\n",
    "- Only **860** customers are High Net Worth out of **8124**\n",
    "\n",
    "- **Home Ownership**, is higher with **7506** customers having Own Home.\n",
    "\n",
    "- **Self Employed** number of customers is very low.\n",
    "\n",
    "- **High Family Income** number of customer is **2014** but **3154** number of customers are **low Family Income** customers.\n",
    "\n",
    "- There are no missing values\n",
    "\n",
    "- For detailed information, please check **Customer-classification Pre Profiling Report.html** file."
   ]
  },
  {
   "cell_type": "markdown",
   "metadata": {
    "id": "fM-c50LH88C0"
   },
   "source": [
    "<a name = Section52></a>\n",
    "### **5.2 Data Pre-Processing**\n",
    "\n",
    "- There are no missing values and data appears clean so far but we need to pre process few features before EDA and Model Evaluation"
   ]
  },
  {
   "cell_type": "code",
   "execution_count": null,
   "metadata": {
    "id": "saZvFRk9Eip3"
   },
   "outputs": [],
   "source": [
    "# year_last_moved feature is not required for EDA and Model Evaluation\n",
    "# post_area and post_code feature can be removed\n",
    "cust_master_data.drop(columns=['year_last_moved','post_area','post_code'], inplace=True)\n",
    "\n",
    "# year_last_moved, post_area and post_code feature need to be removed in Test dataset\n",
    "cust_test_data.drop(columns=['year_last_moved','post_area','post_code'], inplace=True)"
   ]
  },
  {
   "cell_type": "code",
   "execution_count": null,
   "metadata": {
    "id": "et27wYTcEip3"
   },
   "outputs": [],
   "source": [
    "cust_master_data.head(10)"
   ]
  },
  {
   "cell_type": "code",
   "execution_count": null,
   "metadata": {
    "id": "xWOGSezEEip3"
   },
   "outputs": [],
   "source": [
    "cust_master_data.info()"
   ]
  },
  {
   "cell_type": "markdown",
   "metadata": {
    "id": "QLwWFES98-I8"
   },
   "source": [
    "<a name = Section53></a>\n",
    "### **5.3 Data Post-Profiling**\n",
    "\n",
    "- We can run the report to get latest information"
   ]
  },
  {
   "cell_type": "code",
   "execution_count": null,
   "metadata": {
    "id": "ciU9rER48-BI"
   },
   "outputs": [],
   "source": [
    "# post_profile=ProfileReport(df=cust_master_data)\n",
    "# post_profile.to_file(output_file='Customer-classification Post Profiling Report.html')\n",
    "# print('Accomplished!')"
   ]
  },
  {
   "cell_type": "markdown",
   "metadata": {
    "id": "ta0YDE_B9CrW"
   },
   "source": [
    "**Observations:**\n",
    "\n",
    "- year_lastmoved, post_area and post_code are dropped as they are not going to be used for model evaluation."
   ]
  },
  {
   "cell_type": "markdown",
   "metadata": {
    "id": "yRiwgAJL9IrJ"
   },
   "source": [
    "<a name = Section6></a>\n",
    "\n",
    "---\n",
    "# **6. Exploratory Data Analysis**\n",
    "---\n",
    "\n",
    "**NOTE**:  \n",
    "\n",
    "- Exploratory Data Analysis will explore all the features and their relationship with other features\n",
    "- Both non-graphical and graphical method will be used as applicable to respective features\n",
    "- Both univariate and bivariate method be used as applicable to respective features"
   ]
  },
  {
   "cell_type": "markdown",
   "metadata": {
    "id": "ptT-j5erEip4"
   },
   "source": [
    "**Q: What is the breakdown of Customers having children?**"
   ]
  },
  {
   "cell_type": "code",
   "execution_count": null,
   "metadata": {
    "id": "4Blph_-XEip4"
   },
   "outputs": [],
   "source": [
    "cust_master_data['children'].value_counts()"
   ]
  },
  {
   "cell_type": "code",
   "execution_count": null,
   "metadata": {
    "id": "4zNO4dBgEip4"
   },
   "outputs": [],
   "source": [
    "plt.figure(figsize=(15,12))\n",
    "sns.countplot(x='children',data=cust_master_data,order=cust_master_data['children'].value_counts().index)"
   ]
  },
  {
   "cell_type": "code",
   "execution_count": null,
   "metadata": {
    "id": "mL_rnf7PEip5"
   },
   "outputs": [],
   "source": [
    "cust_master_data['children'].value_counts().plot(kind='pie', explode=[0.05,0.05,0.05,0.05,0.05], fontsize=14, autopct='%.2f%%', wedgeprops=dict(width=0.15), \n",
    "\n",
    "                                       shadow=True, startangle=160, figsize=(10,10), cmap='inferno', legend=True)"
   ]
  },
  {
   "cell_type": "markdown",
   "metadata": {
    "id": "lYFqRb_yEip5"
   },
   "source": [
    "**Q: What is the breakdown of Customers across age band?**"
   ]
  },
  {
   "cell_type": "code",
   "execution_count": null,
   "metadata": {
    "id": "xyphdCkdEip5"
   },
   "outputs": [],
   "source": [
    "cust_master_data['age_band'].value_counts()"
   ]
  },
  {
   "cell_type": "code",
   "execution_count": null,
   "metadata": {
    "id": "ZznKbiFCEip5"
   },
   "outputs": [],
   "source": [
    "plt.figure(figsize=(15,12))\n",
    "sns.countplot(x='age_band',data=cust_master_data,order=cust_master_data['age_band'].value_counts().index)"
   ]
  },
  {
   "cell_type": "code",
   "execution_count": null,
   "metadata": {
    "id": "q2LggnkcoXLv"
   },
   "outputs": [],
   "source": [
    "cust_master_data['age_band'].value_counts().plot(kind='pie', explode=[0.05,0.05,0.05,0.05,0.05,0.05,0.05,0.05,0.05,0.05,0.05,0.05,0.05], fontsize=14, autopct='%.2f%%', wedgeprops=dict(width=0.15), \n",
    "\n",
    "                                       shadow=True, startangle=160, figsize=(15,15), cmap='inferno', legend=True)"
   ]
  },
  {
   "cell_type": "markdown",
   "metadata": {
    "id": "d399qGi5Eip5"
   },
   "source": [
    "**Q: What is the breakdown of Customers across marriage status?**"
   ]
  },
  {
   "cell_type": "code",
   "execution_count": null,
   "metadata": {
    "id": "a7eGlRlMEip5"
   },
   "outputs": [],
   "source": [
    "cust_master_data['status'].value_counts()"
   ]
  },
  {
   "cell_type": "code",
   "execution_count": null,
   "metadata": {
    "id": "_D2iH4ChEip6"
   },
   "outputs": [],
   "source": [
    "plt.figure(figsize=(15,12))\n",
    "sns.countplot(x='status',data=cust_master_data,order=cust_master_data['status'].value_counts().index)"
   ]
  },
  {
   "cell_type": "code",
   "execution_count": null,
   "metadata": {
    "id": "GyXd5dGEpAz6"
   },
   "outputs": [],
   "source": [
    "cust_master_data['status'].value_counts().plot(kind='pie', explode=[0.05,0.05,0.05,0.05,0.05], fontsize=14, autopct='%.2f%%', wedgeprops=dict(width=0.15), \n",
    "\n",
    "                                       shadow=True, startangle=160, figsize=(10,10), cmap='inferno', legend=True)"
   ]
  },
  {
   "cell_type": "markdown",
   "metadata": {
    "id": "ocaAbYq5Eip6"
   },
   "source": [
    "**Q: What is the breakdown of Customers across Occupation?**"
   ]
  },
  {
   "cell_type": "code",
   "execution_count": null,
   "metadata": {
    "id": "jtPfnZmEEip6"
   },
   "outputs": [],
   "source": [
    "cust_master_data['occupation'].value_counts()"
   ]
  },
  {
   "cell_type": "code",
   "execution_count": null,
   "metadata": {
    "id": "0ojzl5v7Eip6"
   },
   "outputs": [],
   "source": [
    "plt.figure(figsize=(15,12))\n",
    "sns.countplot(x='occupation',data=cust_master_data,order=cust_master_data['occupation'].value_counts().index)"
   ]
  },
  {
   "cell_type": "code",
   "execution_count": null,
   "metadata": {
    "id": "YLahF17apTae"
   },
   "outputs": [],
   "source": [
    "cust_master_data['occupation'].value_counts().plot(kind='pie', explode=[0.05,0.05,0.05,0.05,0.05,0.05,0.05,0.05,0.05], fontsize=14, autopct='%.2f%%', wedgeprops=dict(width=0.15), \n",
    "\n",
    "                                       shadow=True, startangle=160, figsize=(10,10), cmap='inferno', legend=True)"
   ]
  },
  {
   "cell_type": "markdown",
   "metadata": {
    "id": "N-xaVBMzEip6"
   },
   "source": [
    "**Q: What is the breakdown of Customers across Occupuation Partner?**"
   ]
  },
  {
   "cell_type": "code",
   "execution_count": null,
   "metadata": {
    "id": "JPlnxWC0Eip7"
   },
   "outputs": [],
   "source": [
    "cust_master_data['occupation_partner'].value_counts()"
   ]
  },
  {
   "cell_type": "code",
   "execution_count": null,
   "metadata": {
    "id": "061fo5jwEip7"
   },
   "outputs": [],
   "source": [
    "plt.figure(figsize=(15,12))\n",
    "sns.countplot(x='occupation_partner',data=cust_master_data,order=cust_master_data['occupation_partner'].value_counts().index)"
   ]
  },
  {
   "cell_type": "markdown",
   "metadata": {
    "id": "skq9vddyEip7"
   },
   "source": [
    "**Q: What is the breakdown of Customers across Home Status?**"
   ]
  },
  {
   "cell_type": "code",
   "execution_count": null,
   "metadata": {
    "id": "dQzneFjUEip7"
   },
   "outputs": [],
   "source": [
    "cust_master_data['home_status'].value_counts()"
   ]
  },
  {
   "cell_type": "code",
   "execution_count": null,
   "metadata": {
    "id": "uxeMbEPGEip7"
   },
   "outputs": [],
   "source": [
    "plt.figure(figsize=(15,12))\n",
    "sns.countplot(x='home_status',data=cust_master_data,order=cust_master_data['home_status'].value_counts().index)"
   ]
  },
  {
   "cell_type": "code",
   "execution_count": null,
   "metadata": {
    "id": "o2nAipt7poMU"
   },
   "outputs": [],
   "source": [
    "cust_master_data['home_status'].value_counts().plot(kind='pie', explode=[0.05,0.05,0.05,0.05,0.05], fontsize=14, autopct='%.2f%%', wedgeprops=dict(width=0.15), \n",
    "\n",
    "                                       shadow=True, startangle=160, figsize=(13,13), cmap='inferno', legend=True)"
   ]
  },
  {
   "cell_type": "markdown",
   "metadata": {
    "id": "ePzLVvtcEip9"
   },
   "source": [
    "**Q: What is the breakdown of Customers across Family Income?**"
   ]
  },
  {
   "cell_type": "code",
   "execution_count": null,
   "metadata": {
    "id": "1--SBBHrEip9"
   },
   "outputs": [],
   "source": [
    "cust_master_data['family_income'].value_counts()"
   ]
  },
  {
   "cell_type": "code",
   "execution_count": null,
   "metadata": {
    "id": "_Y8Z_Nj1Eip9"
   },
   "outputs": [],
   "source": [
    "plt.figure(figsize=(15,12))\n",
    "sns.countplot(y='family_income',data=cust_master_data,order=cust_master_data['family_income'].value_counts().index)"
   ]
  },
  {
   "cell_type": "code",
   "execution_count": null,
   "metadata": {
    "id": "-2y176Pjpqtf"
   },
   "outputs": [],
   "source": [
    "cust_master_data['family_income'].value_counts().plot(kind='pie', explode=[0.05,0.05,0.05,0.05,0.05,0.05,0.05,0.05,0.05,0.05,0.05,0.05,0.05], fontsize=14, autopct='%.2f%%', wedgeprops=dict(width=0.15), \n",
    "\n",
    "                                       shadow=True, startangle=160, figsize=(15,15), cmap='inferno', legend=True)"
   ]
  },
  {
   "cell_type": "markdown",
   "metadata": {
    "id": "fiiqfZ8VEip9"
   },
   "source": [
    "**Q: What is the breakdown of Customers across Self Employed?**"
   ]
  },
  {
   "cell_type": "code",
   "execution_count": null,
   "metadata": {
    "id": "Rfjd-Ao4Eip9"
   },
   "outputs": [],
   "source": [
    "cust_master_data['self_employed'].value_counts()"
   ]
  },
  {
   "cell_type": "code",
   "execution_count": null,
   "metadata": {
    "id": "Ljd5MrqhEip-"
   },
   "outputs": [],
   "source": [
    "plt.figure(figsize=(12,12))\n",
    "sns.countplot(x='self_employed',data=cust_master_data,order=cust_master_data['self_employed'].value_counts().index)"
   ]
  },
  {
   "cell_type": "markdown",
   "metadata": {
    "id": "fELuVIDYEip-"
   },
   "source": [
    "**Q: What is the breakdown of Customers across Self Employed Partner?**"
   ]
  },
  {
   "cell_type": "code",
   "execution_count": null,
   "metadata": {
    "id": "xFoCoyazEip-"
   },
   "outputs": [],
   "source": [
    "cust_master_data['self_employed_partner'].value_counts()"
   ]
  },
  {
   "cell_type": "code",
   "execution_count": null,
   "metadata": {
    "id": "_7hF3QO5Eip-"
   },
   "outputs": [],
   "source": [
    "plt.figure(figsize=(12,12))\n",
    "sns.countplot(x='self_employed_partner',data=cust_master_data,order=cust_master_data['self_employed_partner'].value_counts().index)"
   ]
  },
  {
   "cell_type": "markdown",
   "metadata": {
    "id": "UYSETgZtEip-"
   },
   "source": [
    "**Q: What is the breakdown of Customers across TV Area?**"
   ]
  },
  {
   "cell_type": "code",
   "execution_count": null,
   "metadata": {
    "id": "9lD3tWx6Eip-"
   },
   "outputs": [],
   "source": [
    "cust_master_data['TVarea'].value_counts()"
   ]
  },
  {
   "cell_type": "code",
   "execution_count": null,
   "metadata": {
    "id": "kWVL5yPuEip-"
   },
   "outputs": [],
   "source": [
    "plt.figure(figsize=(12,12))\n",
    "sns.countplot(y='TVarea',data=cust_master_data,order=cust_master_data['TVarea'].value_counts().index)"
   ]
  },
  {
   "cell_type": "code",
   "execution_count": null,
   "metadata": {
    "id": "TaLqDSV5puTY"
   },
   "outputs": [],
   "source": [
    "cust_master_data['TVarea'].value_counts().plot(kind='pie', explode=[0.05,0.05,0.05,0.05,0.05,0.05,0.05,0.05,0.05,0.05,0.05,0.05,0.05,0.05], fontsize=14, autopct='%.2f%%', wedgeprops=dict(width=0.15), \n",
    "\n",
    "                                       shadow=True, startangle=160, figsize=(15,15), cmap='inferno', legend=True)"
   ]
  },
  {
   "cell_type": "markdown",
   "metadata": {
    "id": "Ag7-GJT3Eip_"
   },
   "source": [
    "**Q: What is the breakdown of Customers across Region?**"
   ]
  },
  {
   "cell_type": "code",
   "execution_count": null,
   "metadata": {
    "id": "Oh6-reyPEip_"
   },
   "outputs": [],
   "source": [
    "cust_master_data['region'].value_counts()"
   ]
  },
  {
   "cell_type": "code",
   "execution_count": null,
   "metadata": {
    "id": "SLMT_T5YEip_"
   },
   "outputs": [],
   "source": [
    "plt.figure(figsize=(12,12))\n",
    "sns.countplot(y='region',data=cust_master_data,order=cust_master_data['region'].value_counts().index)"
   ]
  },
  {
   "cell_type": "code",
   "execution_count": null,
   "metadata": {
    "id": "KyFAIWSypwQd"
   },
   "outputs": [],
   "source": [
    "cust_master_data['region'].value_counts().plot(kind='pie', explode=[0.05,0.05,0.05,0.05,0.05,0.05,0.05,0.05,0.05,0.05,0.05,0.05,0.05], fontsize=14, autopct='%.2f%%', wedgeprops=dict(width=0.15), \n",
    "\n",
    "                                       shadow=True, startangle=160, figsize=(15,15), cmap='inferno', legend=True)"
   ]
  },
  {
   "cell_type": "markdown",
   "metadata": {
    "id": "ietMK36TEip_"
   },
   "source": [
    "**Q: What is the breakdown of Customers across Gender?**"
   ]
  },
  {
   "cell_type": "code",
   "execution_count": null,
   "metadata": {
    "id": "81dcs1hGEip_"
   },
   "outputs": [],
   "source": [
    "cust_master_data['gender'].value_counts()"
   ]
  },
  {
   "cell_type": "code",
   "execution_count": null,
   "metadata": {
    "id": "GYFIaS39Eip_"
   },
   "outputs": [],
   "source": [
    "plt.figure(figsize=(12,12))\n",
    "sns.countplot(x='gender',data=cust_master_data,order=cust_master_data['gender'].value_counts().index)"
   ]
  },
  {
   "cell_type": "markdown",
   "metadata": {
    "id": "iNVJ1AO1EiqA"
   },
   "source": [
    "**Q: What is the breakdown of Customers across Revenue Grid?**"
   ]
  },
  {
   "cell_type": "code",
   "execution_count": null,
   "metadata": {
    "id": "B493fM3AEiqA"
   },
   "outputs": [],
   "source": [
    "cust_master_data['Revenue_Grid'].value_counts()"
   ]
  },
  {
   "cell_type": "code",
   "execution_count": null,
   "metadata": {
    "id": "kKXgNzHdEiqA"
   },
   "outputs": [],
   "source": [
    "plt.figure(figsize=(12,12))\n",
    "sns.countplot(x='Revenue_Grid',data=cust_master_data,order=cust_master_data['Revenue_Grid'].value_counts().index)"
   ]
  },
  {
   "cell_type": "markdown",
   "metadata": {
    "id": "wrUAX1bCEiqA"
   },
   "source": [
    "**Q: What is the percentage breakdown of Customers across Revenue Grid?**"
   ]
  },
  {
   "cell_type": "code",
   "execution_count": null,
   "metadata": {
    "id": "9G_7sCWmEiqA"
   },
   "outputs": [],
   "source": [
    "print('Customers who are High Net Worth:', cust_master_data['Revenue_Grid'].value_counts()[1])\n",
    "print('Customers who are Low Net Worth:', cust_master_data['Revenue_Grid'].value_counts()[2])\n",
    "\n",
    "space = np.ones(2)/10\n",
    "cust_master_data['Revenue_Grid'].value_counts().plot(kind = 'pie', explode = space, fontsize = 14, autopct = '%3.1f%%', wedgeprops = dict(width=0.15), \n",
    "                                    shadow = True, startangle = 160, figsize = [13.66, 7.68], legend = True)\n",
    "plt.legend(['Low Net Worth', 'High Net Worth'])\n",
    "plt.ylabel('Revenue Grid', size = 14)\n",
    "plt.title('Proportion of Net Worth customers', size = 16)\n",
    "plt.show()"
   ]
  },
  {
   "cell_type": "markdown",
   "metadata": {
    "id": "MP7Ggq2PEiqA"
   },
   "source": [
    "**Below are various plots for Numeric feature distribution to get different view point for better data understanding**"
   ]
  },
  {
   "cell_type": "code",
   "execution_count": null,
   "metadata": {
    "id": "h1jtrpCDEiqB"
   },
   "outputs": [],
   "source": [
    "plt.figure(figsize=(50,25))\n",
    "sns.pairplot(cust_master_data[['Portfolio_Balance','Investment_in_Commodity','Investment_in_Equity','Investment_in_Derivative','Investment_in_Mutual_Fund', 'Investment_Tax_Saving_Bond','Revenue_Grid']],palette='rainbow',diag_kind='kde',hue=\"Revenue_Grid\")"
   ]
  },
  {
   "cell_type": "code",
   "execution_count": null,
   "metadata": {
    "id": "UPoSovDaEiqB"
   },
   "outputs": [],
   "source": [
    "plt.figure(figsize=(50,25))\n",
    "sns.pairplot(cust_master_data[['Term_Deposit','Life_Insurance','Medical_Insurance','Personal_Loan','Home_Loan','Revenue_Grid']],palette='rainbow',diag_kind='kde',hue=\"Revenue_Grid\")"
   ]
  },
  {
   "cell_type": "code",
   "execution_count": null,
   "metadata": {
    "id": "Me4v2Yd1EiqB"
   },
   "outputs": [],
   "source": [
    "plt.figure(figsize=(50,25))\n",
    "sns.pairplot(cust_master_data[['Online_Purchase_Amount','Balance_Transfer','Average_A/C_Balance','Average_Credit_Card_Transaction','Revenue_Grid']],palette='rainbow',diag_kind='kde',hue=\"Revenue_Grid\")"
   ]
  },
  {
   "cell_type": "markdown",
   "metadata": {
    "id": "N1ucYGpAVJPg"
   },
   "source": [
    "**Below are various plots for Numeric feature with Revenue_Grid feature to get different view point for better data understanding**"
   ]
  },
  {
   "cell_type": "code",
   "execution_count": null,
   "metadata": {
    "id": "oteK8wWg90fI"
   },
   "outputs": [],
   "source": [
    "# sns.relplot(\n",
    "#     data=cust_master_data, x=\"Portfolio_Balance\", y=\"Average_A/C_Balance\",\n",
    "#     col=\"Revenue_Grid\", hue=\"region\", style=\"region\",\n",
    "#     kind=\"scatter\", size=\"region\"\n",
    "# )"
   ]
  },
  {
   "cell_type": "code",
   "execution_count": null,
   "metadata": {
    "id": "mZchq-HZ90fI"
   },
   "outputs": [],
   "source": [
    "# sns.relplot(\n",
    "#     data=cust_master_data, x=\"Portfolio_Balance\", y=\"Average_A/C_Balance\",\n",
    "#     col=\"Revenue_Grid\", hue=\"TVarea\", style=\"TVarea\",\n",
    "#     kind=\"scatter\", size=\"TVarea\"\n",
    "# )"
   ]
  },
  {
   "cell_type": "code",
   "execution_count": null,
   "metadata": {
    "id": "tavJ1Uf590fI"
   },
   "outputs": [],
   "source": [
    "# sns.relplot(\n",
    "#     data=cust_master_data, x=\"Portfolio_Balance\", y=\"Average_A/C_Balance\",\n",
    "#     col=\"Revenue_Grid\", hue=\"occupation\", style=\"occupation\",\n",
    "#     kind=\"scatter\", size=\"occupation\"\n",
    "# )"
   ]
  },
  {
   "cell_type": "code",
   "execution_count": null,
   "metadata": {
    "id": "-xgTwZCK90fJ"
   },
   "outputs": [],
   "source": [
    "# sns.relplot(\n",
    "#     data=cust_master_data, x=\"Portfolio_Balance\", y=\"Average_A/C_Balance\",\n",
    "#     col=\"Revenue_Grid\", hue=\"gender\", style=\"gender\",\n",
    "#     kind=\"scatter\", size=\"gender\"\n",
    "# )"
   ]
  },
  {
   "cell_type": "code",
   "execution_count": null,
   "metadata": {
    "id": "5iMUEo0J90fJ"
   },
   "outputs": [],
   "source": [
    "# sns.relplot(\n",
    "#     data=cust_master_data, x=\"Portfolio_Balance\", y=\"Average_A/C_Balance\",\n",
    "#     col=\"Revenue_Grid\", hue=\"status\", style=\"status\",\n",
    "#     kind=\"scatter\", size=\"status\"\n",
    "# )"
   ]
  },
  {
   "cell_type": "code",
   "execution_count": null,
   "metadata": {
    "id": "ngvc7zaD90fJ"
   },
   "outputs": [],
   "source": [
    "# sns.relplot(\n",
    "#     data=cust_master_data, x=\"Portfolio_Balance\", y=\"Average_A/C_Balance\",\n",
    "#     col=\"Revenue_Grid\", hue=\"age_band\", style=\"age_band\",\n",
    "#     kind=\"scatter\", size=\"age_band\"\n",
    "# )"
   ]
  },
  {
   "cell_type": "code",
   "execution_count": null,
   "metadata": {
    "id": "oso9xH0k90fJ"
   },
   "outputs": [],
   "source": [
    "# sns.relplot(\n",
    "#     data=cust_master_data, x=\"Portfolio_Balance\", y=\"Average_A/C_Balance\",\n",
    "#     col=\"Revenue_Grid\", hue=\"home_status\", style=\"home_status\",\n",
    "#     kind=\"scatter\", size=\"home_status\"\n",
    "# )"
   ]
  },
  {
   "cell_type": "code",
   "execution_count": null,
   "metadata": {
    "id": "DJJFT3xc90fJ"
   },
   "outputs": [],
   "source": [
    "# sns.relplot(\n",
    "#     data=cust_master_data, x=\"Portfolio_Balance\", y=\"Average_A/C_Balance\",\n",
    "#     col=\"Revenue_Grid\", hue=\"family_income\", style=\"family_income\",\n",
    "#     kind=\"scatter\", size=\"family_income\"\n",
    "# )"
   ]
  },
  {
   "cell_type": "markdown",
   "metadata": {
    "id": "nMcCldglEiqB"
   },
   "source": [
    "**Q: What is breakdown of Customers across Revenue Grid for various Numerical features**"
   ]
  },
  {
   "cell_type": "code",
   "execution_count": null,
   "metadata": {
    "id": "hp4Py5X8EiqC"
   },
   "outputs": [],
   "source": [
    "cust_master_data.groupby(['Revenue_Grid'])['Portfolio_Balance'].mean().plot(kind='bar', figsize=(15, 7), color='orange')\n",
    "cust_master_data.groupby(['Revenue_Grid'])['Balance_Transfer'].mean().plot(kind='bar', figsize=(15, 7), color='red')\n",
    "cust_master_data.groupby(['Revenue_Grid'])['Average_A/C_Balance'].mean().plot(kind='bar', figsize=(15, 7), color='black')"
   ]
  },
  {
   "cell_type": "code",
   "execution_count": null,
   "metadata": {
    "id": "mDs7m1YsEiqC"
   },
   "outputs": [],
   "source": [
    "cust_master_data.groupby(['Revenue_Grid'])[['Average_Credit_Card_Transaction','Online_Purchase_Amount','Home_Loan', 'Personal_Loan']].mean().plot(kind='bar', figsize=(15, 7), color=['orange','blue','red','yellow'])"
   ]
  },
  {
   "cell_type": "code",
   "execution_count": null,
   "metadata": {
    "id": "Zr16_Of3EiqC"
   },
   "outputs": [],
   "source": [
    "cust_master_data.groupby(['Revenue_Grid'])[['Investment_in_Commodity','Investment_in_Equity','Investment_in_Derivative', 'Portfolio_Balance']].mean().plot(kind='bar', figsize=(15, 7), color=['orange','yellow','red','blue'])"
   ]
  },
  {
   "cell_type": "code",
   "execution_count": null,
   "metadata": {
    "id": "vAeUYbETEiqI"
   },
   "outputs": [],
   "source": [
    "#Check correlation primarily between Numerical linear features and target variable\n",
    "#Correlation is a measure used to represent how strongly two random variables are related to each other.\n",
    "#Correlation ranges between -1 and +1\n",
    "corr = cust_master_data.corr(method='pearson')\n",
    "plt.figure(figsize=(15,15))\n",
    "sns.heatmap(corr,vmax=.8,linewidth=.01, square = True, annot = True,cmap='YlGnBu',linecolor ='black')\n",
    "plt.title('Correlation between Numerical features and target variable')"
   ]
  },
  {
   "cell_type": "markdown",
   "metadata": {
    "id": "PUEjjVoREiqI"
   },
   "source": [
    "**Observations:**\n",
    "\n",
    "- Only **Personal_Loan** has positive correlation with **Revenue_Grid**\n",
    "- There is higher positive correlation for **Personal_Loan** with **Portfolio_Balance** and **Investment_in_Equity**\n",
    "- There is strong positive correlation for **Portfolio_Balance** with **Investment_in_Derivative**, **Investment_in_Commodity**,**Investment_in_Equity** and **Life_Insurance**\n",
    "- There is strong positive correlation for **Life_Insurance** with **Investment_in_Derivative** and **Investment_in_Commodity**\n",
    "- There is higher positive correlation for **Balance_Transfer** with **Portfolio_Balance**, **Investment_in_Commodity** and **Investment_in_Derivative**\n",
    "- There is higher positive correlation for **Term_Deposit** with **Investment_in_Commodity**"
   ]
  },
  {
   "cell_type": "code",
   "execution_count": null,
   "metadata": {
    "id": "jXkuZ4EXEiqI"
   },
   "outputs": [],
   "source": [
    "#Covariance is a measure to indicate the extent to which two random variables change in tandem.\n",
    "#Covariance can vary between -∞ and +∞\n",
    "cust_master_data.cov()"
   ]
  },
  {
   "cell_type": "markdown",
   "metadata": {
    "id": "cG1bbgdYEz43"
   },
   "source": [
    "- Below are few plots to identify correlation between numerical features with respect to target variable"
   ]
  },
  {
   "cell_type": "code",
   "execution_count": null,
   "metadata": {
    "id": "FCKKbal0EiqJ"
   },
   "outputs": [],
   "source": [
    "# getting y\n",
    "y= cust_master_data.Revenue_Grid"
   ]
  },
  {
   "cell_type": "code",
   "execution_count": null,
   "metadata": {
    "id": "yUQoBehKOEa4"
   },
   "outputs": [],
   "source": [
    "# data = cust_master_data[numeric_cols]\n",
    "# data_n_2 = (data - data.mean()) / (data.std())   \n",
    "# data2 = pd.concat([y,data_n_2.iloc[:,0:5]],axis=1)\n",
    "# data3 = pd.melt(data2,id_vars=\"Revenue_Grid\",\n",
    "#                     var_name=\"features\",\n",
    "#                     value_name='value')\n",
    "# plt.figure(figsize=(20,10))\n",
    "# sns.violinplot(x=\"features\", y=\"value\", hue=\"Revenue_Grid\", data=data3, split=True, inner=\"quartile\", scale=\"area\", pallete=\"Set2\")\n",
    "# plt.xticks(rotation=90)"
   ]
  },
  {
   "cell_type": "code",
   "execution_count": null,
   "metadata": {
    "id": "1M0vVZthfq3n"
   },
   "outputs": [],
   "source": [
    "# plt.figure(figsize=(20,10))\n",
    "# sns.boxplot(x=\"features\", y=\"value\", hue=\"Revenue_Grid\", data=data3)\n",
    "# plt.xticks(rotation=90)"
   ]
  },
  {
   "cell_type": "code",
   "execution_count": null,
   "metadata": {
    "id": "z-Jzbk4WfOW7"
   },
   "outputs": [],
   "source": [
    "# data = cust_master_data[numeric_cols]\n",
    "# data_n_2 = (data - data.mean()) / (data.std())   \n",
    "# data2 = pd.concat([y,data_n_2.iloc[:,5:10]],axis=1)\n",
    "# data3 = pd.melt(data2,id_vars=\"Revenue_Grid\",\n",
    "#                     var_name=\"features\",\n",
    "#                     value_name='value')\n",
    "# plt.figure(figsize=(20,10))\n",
    "# sns.violinplot(x=\"features\", y=\"value\", hue=\"Revenue_Grid\", data=data3, split=True, inner=\"quartile\", scale=\"area\", pallete=\"Set2\")\n",
    "# plt.xticks(rotation=90)"
   ]
  },
  {
   "cell_type": "code",
   "execution_count": null,
   "metadata": {
    "id": "wfsvxqq8fuq2"
   },
   "outputs": [],
   "source": [
    "# plt.figure(figsize=(20,10))\n",
    "# sns.boxplot(x=\"features\", y=\"value\", hue=\"Revenue_Grid\", data=data3)\n",
    "# plt.xticks(rotation=90)"
   ]
  },
  {
   "cell_type": "code",
   "execution_count": null,
   "metadata": {
    "id": "VPDIayv3fUjm"
   },
   "outputs": [],
   "source": [
    "# data = cust_master_data[numeric_cols]\n",
    "# data_n_2 = (data - data.mean()) / (data.std())   \n",
    "# data2 = pd.concat([y,data_n_2.iloc[:,10:15]],axis=1)\n",
    "# data3 = pd.melt(data2,id_vars=\"Revenue_Grid\",\n",
    "#                     var_name=\"features\",\n",
    "#                     value_name='value')\n",
    "# plt.figure(figsize=(20,10))\n",
    "# sns.violinplot(x=\"features\", y=\"value\", hue=\"Revenue_Grid\", data=data3, split=True, inner=\"quartile\", scale=\"area\", pallete=\"Set2\")\n",
    "# plt.xticks(rotation=90)"
   ]
  },
  {
   "cell_type": "code",
   "execution_count": null,
   "metadata": {
    "id": "XyFJx8fwfx60"
   },
   "outputs": [],
   "source": [
    "# plt.figure(figsize=(20,10))\n",
    "# sns.boxplot(x=\"features\", y=\"value\", hue=\"Revenue_Grid\", data=data3)\n",
    "# plt.xticks(rotation=90)"
   ]
  },
  {
   "cell_type": "markdown",
   "metadata": {
    "id": "VXvEcuNuVJPj"
   },
   "source": [
    "<a name = Section7></a>\n",
    "\n",
    "---\n",
    "# **7. Data Post-Processing**\n",
    "---\n",
    "\n"
   ]
  },
  {
   "cell_type": "markdown",
   "metadata": {
    "id": "BEmZ_S6qVJPj"
   },
   "source": [
    "<a name = Section71></a>\n",
    "### **7.1 Data Encoding**\n",
    "\n",
    "- In this section, we will encode our categorical features as necessary and manipulate any column as necessary"
   ]
  },
  {
   "cell_type": "code",
   "execution_count": null,
   "metadata": {
    "id": "YLEBOAvXEiqJ"
   },
   "outputs": [],
   "source": [
    "# # applying one-hot encoding for Training and Validation Dataset\n",
    "from sklearn.preprocessing import OneHotEncoder\n",
    "ohe = OneHotEncoder()\n",
    "categorical = cust_master_data.loc[:, ['children','age_band', 'status', 'occupation', 'occupation_partner', 'home_status', 'family_income', 'self_employed', 'self_employed_partner', 'TVarea', 'gender','region']]\n",
    "encoded_data = ohe.fit_transform(categorical)\n",
    "cols = ohe.get_feature_names(['children','age_band', 'status', 'occupation', 'occupation_partner', 'home_status', 'family_income', 'self_employed', 'self_employed_partner', 'TVarea', 'gender','region'])\n",
    "encoded_features = pd.DataFrame(encoded_data.todense(), columns=cols)"
   ]
  },
  {
   "cell_type": "code",
   "execution_count": null,
   "metadata": {
    "colab": {
     "base_uri": "https://localhost:8080/"
    },
    "id": "DL5Hmf1kEiqJ",
    "outputId": "b3a868b8-4147-4f78-b7cc-15713ca6db9b"
   },
   "outputs": [],
   "source": [
    "encoded_features.shape"
   ]
  },
  {
   "cell_type": "code",
   "execution_count": null,
   "metadata": {
    "colab": {
     "base_uri": "https://localhost:8080/",
     "height": 413
    },
    "id": "9zmYQLHrEiqJ",
    "outputId": "1fc7c7e7-de9c-442f-e57a-a9157aed303a"
   },
   "outputs": [],
   "source": [
    "encoded_features.head(10)"
   ]
  },
  {
   "cell_type": "code",
   "execution_count": null,
   "metadata": {
    "colab": {
     "base_uri": "https://localhost:8080/"
    },
    "id": "EfF6HorhEiqJ",
    "outputId": "720ad18e-4caa-4bae-e20d-c08b94ee747a"
   },
   "outputs": [],
   "source": [
    "encoded_features.info()"
   ]
  },
  {
   "cell_type": "code",
   "execution_count": null,
   "metadata": {
    "id": "hXOQhZ6290fL"
   },
   "outputs": [],
   "source": [
    "# applying one-hot encoding for Test Dataset\n",
    "#ohe = OneHotEncoder()\n",
    "test_categorical = cust_test_data.loc[:, ['children','age_band', 'status', 'occupation', 'occupation_partner', 'home_status', 'family_income', 'self_employed', 'self_employed_partner', 'TVarea', 'gender','region']]\n",
    "encoded_test_data = ohe.transform(test_categorical)\n",
    "test_cols = ohe.get_feature_names(['children','age_band', 'status', 'occupation', 'occupation_partner', 'home_status', 'family_income', 'self_employed', 'self_employed_partner', 'TVarea', 'gender','region'])\n",
    "encoded_test_features = pd.DataFrame(encoded_test_data.todense(), columns=test_cols)"
   ]
  },
  {
   "cell_type": "code",
   "execution_count": null,
   "metadata": {
    "colab": {
     "base_uri": "https://localhost:8080/"
    },
    "id": "25gLIjG490fL",
    "outputId": "4c2a0922-86d1-4a5a-c1db-214f4b6eb19d"
   },
   "outputs": [],
   "source": [
    "encoded_test_features.shape"
   ]
  },
  {
   "cell_type": "code",
   "execution_count": null,
   "metadata": {
    "colab": {
     "base_uri": "https://localhost:8080/"
    },
    "id": "ET3pKwwKkjXm",
    "outputId": "673d0e2e-bc47-49f4-96ec-b42a8f65bb2e"
   },
   "outputs": [],
   "source": [
    "encoded_test_features.info()"
   ]
  },
  {
   "cell_type": "code",
   "execution_count": null,
   "metadata": {
    "colab": {
     "base_uri": "https://localhost:8080/",
     "height": 413
    },
    "id": "b1js0Ukv90fL",
    "outputId": "c1f324a1-59b3-4360-c19a-eed1ea353e79"
   },
   "outputs": [],
   "source": [
    "encoded_test_features.head(10)"
   ]
  },
  {
   "cell_type": "code",
   "execution_count": null,
   "metadata": {
    "colab": {
     "base_uri": "https://localhost:8080/",
     "height": 255
    },
    "id": "cLeb3IJGEiqK",
    "outputId": "0444cd53-414f-4e76-d322-0480b1671b4b"
   },
   "outputs": [],
   "source": [
    "numerical_features = cust_master_data[['Average_Credit_Card_Transaction', 'Balance_Transfer', 'Term_Deposit', 'Life_Insurance', 'Medical_Insurance', 'Average_A/C_Balance', 'Personal_Loan', 'Investment_in_Mutual_Fund', 'Investment_Tax_Saving_Bond', 'Home_Loan', 'Online_Purchase_Amount', 'Investment_in_Commodity', 'Investment_in_Equity', 'Investment_in_Derivative', 'Portfolio_Balance']]\n",
    "numerical_features.head()"
   ]
  },
  {
   "cell_type": "code",
   "execution_count": null,
   "metadata": {
    "colab": {
     "base_uri": "https://localhost:8080/"
    },
    "id": "0ujLQjrcEiqK",
    "outputId": "17c6d626-1f05-4452-bcf6-2d3022a4985f"
   },
   "outputs": [],
   "source": [
    "numerical_features.shape"
   ]
  },
  {
   "cell_type": "code",
   "execution_count": null,
   "metadata": {
    "colab": {
     "base_uri": "https://localhost:8080/",
     "height": 224
    },
    "id": "cKukKMS-EiqK",
    "outputId": "f7c73bc2-9c5c-446e-f96b-77406d79b51d"
   },
   "outputs": [],
   "source": [
    "numerical_features_reset=numerical_features.reset_index()\n",
    "numerical_features_reset.head()"
   ]
  },
  {
   "cell_type": "code",
   "execution_count": null,
   "metadata": {
    "colab": {
     "base_uri": "https://localhost:8080/",
     "height": 255
    },
    "id": "1E-tvAvl90fM",
    "outputId": "20753712-e336-4cff-82a1-67c4ee7bbba9"
   },
   "outputs": [],
   "source": [
    "test_numerical_features = cust_test_data[['Average_Credit_Card_Transaction', 'Balance_Transfer', 'Term_Deposit', 'Life_Insurance', 'Medical_Insurance', 'Average_A/C_Balance', 'Personal_Loan', 'Investment_in_Mutual_Fund', 'Investment_Tax_Saving_Bond', 'Home_Loan', 'Online_Purchase_Amount', 'Investment_in_Commodity', 'Investment_in_Equity', 'Investment_in_Derivative', 'Portfolio_Balance']]\n",
    "test_numerical_features.head()"
   ]
  },
  {
   "cell_type": "code",
   "execution_count": null,
   "metadata": {
    "colab": {
     "base_uri": "https://localhost:8080/"
    },
    "id": "BFWisZ6A90fM",
    "outputId": "3c1582a1-9828-468b-e227-c60af442d744"
   },
   "outputs": [],
   "source": [
    "test_numerical_features.shape"
   ]
  },
  {
   "cell_type": "code",
   "execution_count": null,
   "metadata": {
    "colab": {
     "base_uri": "https://localhost:8080/",
     "height": 224
    },
    "id": "LEk-vtcQ90fM",
    "outputId": "5a6f87f1-7262-40d8-f4c5-1010f298cea2"
   },
   "outputs": [],
   "source": [
    "test_numerical_features_reset=test_numerical_features.reset_index()\n",
    "test_numerical_features_reset.head()"
   ]
  },
  {
   "cell_type": "code",
   "execution_count": null,
   "metadata": {
    "colab": {
     "base_uri": "https://localhost:8080/",
     "height": 258
    },
    "id": "tIFvqKWJEiqK",
    "outputId": "c974745a-efc0-4212-be60-8bd56d40196a"
   },
   "outputs": [],
   "source": [
    "finalX = pd.merge(encoded_features,numerical_features_reset,left_index=True,right_index=True, how=\"inner\")\n",
    "finalX.head()"
   ]
  },
  {
   "cell_type": "code",
   "execution_count": null,
   "metadata": {
    "colab": {
     "base_uri": "https://localhost:8080/"
    },
    "id": "tw1PfdzmEiqL",
    "outputId": "a2bbcd66-3053-4adc-b069-d5b42b17110e"
   },
   "outputs": [],
   "source": [
    "finalX.shape"
   ]
  },
  {
   "cell_type": "code",
   "execution_count": null,
   "metadata": {
    "id": "qGAnGGBzEiqL"
   },
   "outputs": [],
   "source": [
    "finalX.set_index('REF_NO')"
   ]
  },
  {
   "cell_type": "code",
   "execution_count": null,
   "metadata": {
    "id": "xYOtUBym90fO"
   },
   "outputs": [],
   "source": [
    "test_finalX = pd.merge(encoded_test_features,test_numerical_features_reset,left_index=True,right_index=True, how=\"inner\")\n",
    "test_finalX.head()"
   ]
  },
  {
   "cell_type": "code",
   "execution_count": null,
   "metadata": {
    "colab": {
     "base_uri": "https://localhost:8080/"
    },
    "id": "nH9D_z-S90fO",
    "outputId": "94992d04-3fab-4e2c-acac-a7545c496a9f"
   },
   "outputs": [],
   "source": [
    "test_finalX.shape"
   ]
  },
  {
   "cell_type": "code",
   "execution_count": null,
   "metadata": {
    "colab": {
     "base_uri": "https://localhost:8080/",
     "height": 1000
    },
    "id": "pxGAfVMo90fO",
    "outputId": "5b623c94-8263-4b3d-b44a-fd7e6bcb02d4"
   },
   "outputs": [],
   "source": [
    "test_finalX.set_index('REF_NO')"
   ]
  },
  {
   "cell_type": "markdown",
   "metadata": {
    "id": "VTDUtk4ZE9NQ"
   },
   "source": [
    "<a name = Section72></a>\n",
    "### **7.2 Data Preparation**\n",
    "\n",
    "- Now we will **split** our **data** into **dependent** and **independent** variables for further development using holdout validation technique."
   ]
  },
  {
   "cell_type": "code",
   "execution_count": null,
   "metadata": {
    "colab": {
     "base_uri": "https://localhost:8080/",
     "height": 411
    },
    "id": "5J3OJTe-E9st",
    "outputId": "21cfabdf-4953-4ffc-f3fc-08b4b6d38fbc",
    "scrolled": false
   },
   "outputs": [],
   "source": [
    "# Splitting data into training and testing sets with using Validation Test Data as 25%\n",
    "X_train, X_test, y_train, y_test = train_test_split(finalX, y, test_size=0.25, random_state=42, stratify=y)\n",
    "\n",
    "# Display the shape of training and testing data\n",
    "print('X_train shape: ', X_train.shape)\n",
    "print('y_train shape: ', y_train.shape)\n",
    "print('X_test shape: ', X_test.shape)\n",
    "print('y_test shape: ', y_test.shape)\n",
    "X_train.info()\n",
    "#X_train.columns\n",
    "X_train.head()"
   ]
  },
  {
   "cell_type": "markdown",
   "metadata": {
    "id": "oW7xFVEiEitF"
   },
   "source": [
    "<a name = Section73></a>\n",
    "### **7.3 Data Scaling**\n",
    "\n",
    "- Here we can try various scaling options available to arrive at best option\n",
    "- Here I have decided to not do scaling as of now after trying with different scaling options"
   ]
  },
  {
   "cell_type": "code",
   "execution_count": null,
   "metadata": {
    "id": "oHzc0udYEitG"
   },
   "outputs": [],
   "source": [
    "from sklearn.preprocessing import RobustScaler\n",
    "from sklearn.preprocessing import StandardScaler\n",
    "from sklearn.preprocessing import MinMaxScaler\n",
    "\n",
    "scaler_rbs = RobustScaler()\n",
    "X_train_rbs = scaler_rbs.fit_transform(X_train)\n",
    "X_test_rbs = scaler_rbs.transform(X_test)"
   ]
  },
  {
   "cell_type": "markdown",
   "metadata": {
    "id": "K-mvuWsNFAYJ"
   },
   "source": [
    "<a name = Section8></a>\n",
    "\n",
    "---\n",
    "# **8. Model Development & Evaluation**\n",
    "---\n",
    "\n",
    "- In this section we will **develop a Logistic Regression model**\n",
    "\n",
    "- Then we will **analyze the results** obtained and **make our observations**.\n",
    "\n",
    "- For **evaluation purpose** we will **focus** on **F1 Score** score as required by this project."
   ]
  },
  {
   "cell_type": "markdown",
   "metadata": {
    "id": "susmBGv8TOPl"
   },
   "source": [
    "<a name = Section81></a>\n",
    "### **8.1 Baseline Model Development & Evaluation**\n",
    "\n",
    "- Here we will develop Logistic Regression classification model using default setting."
   ]
  },
  {
   "cell_type": "code",
   "execution_count": null,
   "metadata": {
    "id": "aA5BQH1tE9pR"
   },
   "outputs": [],
   "source": [
    "# Instantiate a Logistic Regression\n",
    "logreg = LogisticRegression()\n",
    "logreg.fit(X_train_rbs,y_train)\n",
    "\n",
    "# Predicting training and testing labels\n",
    "y_train_pred_count = logreg.predict(X_train_rbs)\n",
    "y_test_pred_count = logreg.predict(X_test_rbs)\n"
   ]
  },
  {
   "cell_type": "code",
   "execution_count": null,
   "metadata": {
    "colab": {
     "base_uri": "https://localhost:8080/",
     "height": 653
    },
    "id": "EkNCXm8eEitH",
    "outputId": "5a9f195e-a308-46e5-9abe-d95816ab676f"
   },
   "outputs": [],
   "source": [
    "#Print confusion matrix for Test Validation Data\n",
    "from sklearn.metrics import confusion_matrix, ConfusionMatrixDisplay\n",
    "cm = confusion_matrix(y_test, y_test_pred_count,labels=logreg.classes_)\n",
    "disp = ConfusionMatrixDisplay(confusion_matrix=cm,display_labels=logreg.classes_)\n",
    "fig, ax = plt.subplots(figsize=(8,8))\n",
    "\n",
    "disp.plot(cmap='cividis', values_format='d', ax=ax)\n",
    "ax.set_xlabel('Predicted Value');ax.set_ylabel('Actual Value'); \n",
    "ax.set_title('Confusion Matrix'); \n",
    "ax.xaxis.set_ticklabels(['High Net Worth(1)', 'Low Net Worth(2)']); ax.yaxis.set_ticklabels(['High Net Worth(1)', 'Low Net Worth(2)']);"
   ]
  },
  {
   "cell_type": "code",
   "execution_count": null,
   "metadata": {
    "colab": {
     "base_uri": "https://localhost:8080/"
    },
    "id": "yo-ZmUuWEitH",
    "outputId": "031965b7-4778-424d-8368-0b6516c5b000"
   },
   "outputs": [],
   "source": [
    "print(' Accuracy score for test validation data is:', accuracy_score(y_test,y_test_pred_count),\n",
    "      '\\n','#########################################################','\\n'\n",
    "   ' Precision score for test validation data is :', precision_score(y_test,y_test_pred_count),'\\n',\n",
    "      'Recall score for test validation data is :', recall_score(y_test,y_test_pred_count),'\\n',\n",
    "      '#########################################################','\\n',\n",
    "      'F1 score for test validation data is :', f1_score(y_test,y_test_pred_count))"
   ]
  },
  {
   "cell_type": "code",
   "execution_count": null,
   "metadata": {
    "colab": {
     "base_uri": "https://localhost:8080/"
    },
    "id": "ShNKXCKaHsfB",
    "outputId": "b3a47db1-84e1-4dee-e0fe-4b8e93c13e14"
   },
   "outputs": [],
   "source": [
    "train_report = classification_report(y_train, y_train_pred_count)\n",
    "test_report = classification_report(y_test, y_test_pred_count)\n",
    "print('                    Training Data Report          ')\n",
    "print(train_report)\n",
    "print('                    Test Validation Data Report           ')\n",
    "print(test_report)"
   ]
  },
  {
   "cell_type": "code",
   "execution_count": null,
   "metadata": {
    "colab": {
     "base_uri": "https://localhost:8080/",
     "height": 508
    },
    "id": "CJVefSM9EitI",
    "outputId": "0ea45f12-1c4a-49d7-e081-7f06aa8e3c16"
   },
   "outputs": [],
   "source": [
    " roc_disp= plot_roc_curve(logreg, X_test, y_test)"
   ]
  },
  {
   "cell_type": "markdown",
   "metadata": {
    "id": "d65PFHHrhGQu"
   },
   "source": [
    "- Here we will do prediction on Test Dataset (aka Real World Data) using Logistic Regression classification model."
   ]
  },
  {
   "cell_type": "code",
   "execution_count": null,
   "metadata": {
    "colab": {
     "base_uri": "https://localhost:8080/"
    },
    "id": "cTEGybEYEitK",
    "outputId": "a81d9f7e-7766-4920-a210-af6b9194791e"
   },
   "outputs": [],
   "source": [
    "import sys\n",
    "np.set_printoptions(threshold=sys.maxsize)\n",
    "y_test_pred = logreg.predict(test_finalX)\n",
    "y_test_pred\n",
    "#print (y_test_pred.shape)\n",
    "#print (y_test_pred)\n",
    "lownetworthcount=0\n",
    "highnetworthcount=0\n",
    "for pred in y_test_pred:\n",
    "  if pred ==1:\n",
    "    lownetworthcount= lownetworthcount+1\n",
    "  else:\n",
    "    highnetworthcount= highnetworthcount+1\n",
    "    \n",
    "    \n",
    "    print (\"Low Net worth Count\", lownetworthcount)\n",
    "    print (\"High Net worth Count\", highnetworthcount)"
   ]
  },
  {
   "cell_type": "markdown",
   "metadata": {
    "id": "hkgo2ycvhYNX"
   },
   "source": [
    "- Here we will write output of prediction to CSV file for submission."
   ]
  },
  {
   "cell_type": "code",
   "execution_count": null,
   "metadata": {
    "id": "UrLD7eBtEitK"
   },
   "outputs": [],
   "source": [
    "output = pd.DataFrame({'REF_NO': cust_test_data.index,'Revenue_Grid': y_test_pred})\n",
    "output.to_csv('customer-classification-submission3.csv', index=False, header=False)"
   ]
  },
  {
   "cell_type": "markdown",
   "metadata": {
    "id": "_H3bOK6bXgb7"
   },
   "source": [
    "<a name = Section9></a>\n",
    "\n",
    "---\n",
    "# **9. Summarization**\n",
    "---"
   ]
  },
  {
   "cell_type": "markdown",
   "metadata": {
    "id": "HFqTdgNaXix8"
   },
   "source": [
    "<a name = Section91></a>\n",
    "### **9.1 Conclusion**\n",
    "\n",
    "- Logistic Regression model was used for model evaluation and prediction considering this is ML Foundation project.\n",
    "- F1-Score was used to arrive at model evaluation which is required for this ML Foundation Project.\n",
    "- One-Hot Encoding using one hot encoder was required as get_dummies was not working for Test Dataset with region column where one of the class is not getting encoded. Later I found same issue with One-Hot encoding for Test Dataset but it was confirmed and one of the class in region feature does not exist and had to drop **region** column altogether as we already have **TVarea** which captures similar information required to run campaign by Marketing Team.\n",
    "- RobustScaler scaling provided best F1 Score for this dataset as most of numeric feature did not have normal distribution and contains outliers."
   ]
  }
 ],
 "metadata": {
  "colab": {
   "collapsed_sections": [],
   "name": "Customer_classification.ipynb",
   "provenance": []
  },
  "kernelspec": {
   "display_name": "Python 3",
   "language": "python",
   "name": "python3"
  },
  "language_info": {
   "codemirror_mode": {
    "name": "ipython",
    "version": 3
   },
   "file_extension": ".py",
   "mimetype": "text/x-python",
   "name": "python",
   "nbconvert_exporter": "python",
   "pygments_lexer": "ipython3",
   "version": "3.8.5"
  }
 },
 "nbformat": 4,
 "nbformat_minor": 1
}
